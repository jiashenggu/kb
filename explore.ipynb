{
 "cells": [
  {
   "cell_type": "code",
   "execution_count": 1,
   "metadata": {},
   "outputs": [
    {
     "name": "stderr",
     "output_type": "stream",
     "text": [
      "/nas/home/gujiashe/miniconda3/envs/knowbert/lib/python3.6/site-packages/sklearn/utils/linear_assignment_.py:22: FutureWarning: The linear_assignment_ module is deprecated in 0.21 and will be removed from 0.23. Use scipy.optimize.linear_sum_assignment instead.\n",
      "  FutureWarning)\n",
      "/nas/home/gujiashe/miniconda3/envs/knowbert/lib/python3.6/site-packages/allennlp/data/token_indexers/token_characters_indexer.py:51: UserWarning: You are using the default value (0) of `min_padding_length`, which can cause some subtle bugs (more info see https://github.com/allenai/allennlp/issues/1954). Strongly recommend to set a value, usually the maximum size of the convolutional layer size when using CnnEncoder.\n",
      "  UserWarning)\n"
     ]
    }
   ],
   "source": [
    "from allennlp.commands.evaluate import *\n",
    "from kb.include_all import *\n",
    "from allennlp.nn import util as nn_util\n",
    "from allennlp.common.tqdm import Tqdm\n",
    "import torch\n",
    "import warnings\n",
    "warnings.filterwarnings(\"ignore\")\n",
    "archive_file = \"knowbert_wiki_wordnet_model\"\n",
    "cuda_device = -1\n",
    "# line = \"banana\\tcolor\\tyellow\""
   ]
  },
  {
   "cell_type": "code",
   "execution_count": 2,
   "metadata": {},
   "outputs": [],
   "source": [
    "import logging\n",
    "\n",
    "logger = logging.getLogger()  # 不加名称设置root logger\n",
    "logger.setLevel(logging.INFO)\n",
    "formatter = logging.Formatter(\n",
    "    '%(asctime)s - %(name)s - %(levelname)s: - %(message)s',\n",
    "    datefmt='%Y-%m-%d %H:%M:%S')\n",
    "\n",
    "# 使用FileHandler输出到文件\n",
    "fh = logging.FileHandler('log.txt')\n",
    "fh.setLevel(logging.DEBUG)\n",
    "fh.setFormatter(formatter)\n",
    "\n",
    "# 使用StreamHandler输出到屏幕\n",
    "ch = logging.StreamHandler()\n",
    "ch.setLevel(logging.DEBUG)\n",
    "ch.setFormatter(formatter)\n",
    "\n",
    "# 添加两个Handler\n",
    "logger.addHandler(ch)\n",
    "logger.addHandler(fh)"
   ]
  },
  {
   "cell_type": "code",
   "execution_count": 3,
   "metadata": {},
   "outputs": [
    {
     "name": "stderr",
     "output_type": "stream",
     "text": [
      "2022-02-22 17:25:51 - allennlp.models.archival - INFO: - loading archive file knowbert_wiki_wordnet_model\n",
      "2022-02-22 17:25:51 - allennlp.common.params - INFO: - vocabulary.type = default\n",
      "2022-02-22 17:25:51 - allennlp.data.vocabulary - INFO: - Loading token dictionary from knowbert_wiki_wordnet_model/vocabulary.\n",
      "2022-02-22 17:25:52 - allennlp.common.from_params - INFO: - instantiating class <class 'allennlp.models.model.Model'> from params {'bert_model_name': 'bert-base-uncased', 'soldered_kgs': {'wiki': {'entity_linker': {'contextual_embedding_dim': 768, 'entity_embedding': {'embedding_dim': 300, 'sparse': False, 'trainable': False, 'vocab_namespace': 'entity_wiki'}, 'namespace': 'entity_wiki', 'span_encoder_config': {'hidden_size': 300, 'intermediate_size': 1024, 'num_attention_heads': 4, 'num_hidden_layers': 1}, 'type': 'entity_linking_with_candidate_mentions'}, 'should_init_kg_to_bert_inverse': False, 'span_attention_config': {'hidden_size': 300, 'intermediate_size': 1024, 'num_attention_heads': 4, 'num_hidden_layers': 1}, 'type': 'soldered_kg'}, 'wordnet': {'entity_linker': {'concat_entity_embedder': {'embedding_file': 'https://allennlp.s3-us-west-2.amazonaws.com/knowbert/wordnet/wordnet_synsets_mask_null_vocab_embeddings_tucker_gensen.hdf5', 'entity_dim': 200, 'entity_file': 'https://allennlp.s3-us-west-2.amazonaws.com/knowbert/wordnet/entities.jsonl', 'entity_h5_key': 'tucker_gensen', 'type': 'wordnet_all_embeddings', 'vocab_file': 'https://allennlp.s3-us-west-2.amazonaws.com/knowbert/wordnet/wordnet_synsets_mask_null_vocab.txt'}, 'contextual_embedding_dim': 768, 'loss_type': 'softmax', 'namespace': 'entity_wordnet', 'span_encoder_config': {'hidden_size': 200, 'intermediate_size': 1024, 'num_attention_heads': 4, 'num_hidden_layers': 1}, 'type': 'entity_linking_with_candidate_mentions'}, 'should_init_kg_to_bert_inverse': False, 'span_attention_config': {'hidden_size': 200, 'intermediate_size': 1024, 'num_attention_heads': 4, 'num_hidden_layers': 1}, 'type': 'soldered_kg'}}, 'soldered_layers': {'wiki': 9, 'wordnet': 10}, 'type': 'knowbert'} and extras {'vocab'}\n",
      "2022-02-22 17:25:52 - allennlp.common.params - INFO: - model.type = knowbert\n",
      "2022-02-22 17:25:52 - allennlp.common.from_params - INFO: - instantiating class <class 'kb.knowbert.KnowBert'> from params {'bert_model_name': 'bert-base-uncased', 'soldered_kgs': {'wiki': {'entity_linker': {'contextual_embedding_dim': 768, 'entity_embedding': {'embedding_dim': 300, 'sparse': False, 'trainable': False, 'vocab_namespace': 'entity_wiki'}, 'namespace': 'entity_wiki', 'span_encoder_config': {'hidden_size': 300, 'intermediate_size': 1024, 'num_attention_heads': 4, 'num_hidden_layers': 1}, 'type': 'entity_linking_with_candidate_mentions'}, 'should_init_kg_to_bert_inverse': False, 'span_attention_config': {'hidden_size': 300, 'intermediate_size': 1024, 'num_attention_heads': 4, 'num_hidden_layers': 1}, 'type': 'soldered_kg'}, 'wordnet': {'entity_linker': {'concat_entity_embedder': {'embedding_file': 'https://allennlp.s3-us-west-2.amazonaws.com/knowbert/wordnet/wordnet_synsets_mask_null_vocab_embeddings_tucker_gensen.hdf5', 'entity_dim': 200, 'entity_file': 'https://allennlp.s3-us-west-2.amazonaws.com/knowbert/wordnet/entities.jsonl', 'entity_h5_key': 'tucker_gensen', 'type': 'wordnet_all_embeddings', 'vocab_file': 'https://allennlp.s3-us-west-2.amazonaws.com/knowbert/wordnet/wordnet_synsets_mask_null_vocab.txt'}, 'contextual_embedding_dim': 768, 'loss_type': 'softmax', 'namespace': 'entity_wordnet', 'span_encoder_config': {'hidden_size': 200, 'intermediate_size': 1024, 'num_attention_heads': 4, 'num_hidden_layers': 1}, 'type': 'entity_linking_with_candidate_mentions'}, 'should_init_kg_to_bert_inverse': False, 'span_attention_config': {'hidden_size': 200, 'intermediate_size': 1024, 'num_attention_heads': 4, 'num_hidden_layers': 1}, 'type': 'soldered_kg'}}, 'soldered_layers': {'wiki': 9, 'wordnet': 10}} and extras {'vocab'}\n",
      "2022-02-22 17:25:52 - allennlp.common.from_params - INFO: - instantiating class <class 'allennlp.models.model.Model'> from params {'entity_linker': {'contextual_embedding_dim': 768, 'entity_embedding': {'embedding_dim': 300, 'sparse': False, 'trainable': False, 'vocab_namespace': 'entity_wiki'}, 'namespace': 'entity_wiki', 'span_encoder_config': {'hidden_size': 300, 'intermediate_size': 1024, 'num_attention_heads': 4, 'num_hidden_layers': 1}, 'type': 'entity_linking_with_candidate_mentions'}, 'should_init_kg_to_bert_inverse': False, 'span_attention_config': {'hidden_size': 300, 'intermediate_size': 1024, 'num_attention_heads': 4, 'num_hidden_layers': 1}, 'type': 'soldered_kg'} and extras {'vocab'}\n",
      "2022-02-22 17:25:52 - allennlp.common.params - INFO: - model.soldered_kgs.wiki.type = soldered_kg\n",
      "2022-02-22 17:25:52 - allennlp.common.from_params - INFO: - instantiating class <class 'kb.knowbert.SolderedKG'> from params {'entity_linker': {'contextual_embedding_dim': 768, 'entity_embedding': {'embedding_dim': 300, 'sparse': False, 'trainable': False, 'vocab_namespace': 'entity_wiki'}, 'namespace': 'entity_wiki', 'span_encoder_config': {'hidden_size': 300, 'intermediate_size': 1024, 'num_attention_heads': 4, 'num_hidden_layers': 1}, 'type': 'entity_linking_with_candidate_mentions'}, 'should_init_kg_to_bert_inverse': False, 'span_attention_config': {'hidden_size': 300, 'intermediate_size': 1024, 'num_attention_heads': 4, 'num_hidden_layers': 1}} and extras {'vocab'}\n",
      "2022-02-22 17:25:52 - allennlp.common.from_params - INFO: - instantiating class <class 'allennlp.models.model.Model'> from params {'contextual_embedding_dim': 768, 'entity_embedding': {'embedding_dim': 300, 'sparse': False, 'trainable': False, 'vocab_namespace': 'entity_wiki'}, 'namespace': 'entity_wiki', 'span_encoder_config': {'hidden_size': 300, 'intermediate_size': 1024, 'num_attention_heads': 4, 'num_hidden_layers': 1}, 'type': 'entity_linking_with_candidate_mentions'} and extras {'vocab'}\n",
      "2022-02-22 17:25:52 - allennlp.common.params - INFO: - model.soldered_kgs.wiki.entity_linker.type = entity_linking_with_candidate_mentions\n",
      "2022-02-22 17:25:52 - allennlp.common.from_params - INFO: - instantiating class <class 'kb.knowbert.EntityLinkingWithCandidateMentions'> from params {'contextual_embedding_dim': 768, 'entity_embedding': {'embedding_dim': 300, 'sparse': False, 'trainable': False, 'vocab_namespace': 'entity_wiki'}, 'namespace': 'entity_wiki', 'span_encoder_config': {'hidden_size': 300, 'intermediate_size': 1024, 'num_attention_heads': 4, 'num_hidden_layers': 1}} and extras {'vocab'}\n",
      "2022-02-22 17:25:52 - allennlp.common.params - INFO: - model.soldered_kgs.wiki.entity_linker.entity_embedding.num_embeddings = None\n",
      "2022-02-22 17:25:52 - allennlp.common.params - INFO: - model.soldered_kgs.wiki.entity_linker.entity_embedding.vocab_namespace = entity_wiki\n",
      "2022-02-22 17:25:52 - allennlp.common.params - INFO: - model.soldered_kgs.wiki.entity_linker.entity_embedding.embedding_dim = 300\n",
      "2022-02-22 17:25:52 - allennlp.common.params - INFO: - model.soldered_kgs.wiki.entity_linker.entity_embedding.pretrained_file = None\n",
      "2022-02-22 17:25:52 - allennlp.common.params - INFO: - model.soldered_kgs.wiki.entity_linker.entity_embedding.projection_dim = None\n",
      "2022-02-22 17:25:52 - allennlp.common.params - INFO: - model.soldered_kgs.wiki.entity_linker.entity_embedding.trainable = False\n",
      "2022-02-22 17:25:52 - allennlp.common.params - INFO: - model.soldered_kgs.wiki.entity_linker.entity_embedding.padding_index = None\n",
      "2022-02-22 17:25:52 - allennlp.common.params - INFO: - model.soldered_kgs.wiki.entity_linker.entity_embedding.max_norm = None\n",
      "2022-02-22 17:25:52 - allennlp.common.params - INFO: - model.soldered_kgs.wiki.entity_linker.entity_embedding.norm_type = 2.0\n",
      "2022-02-22 17:25:52 - allennlp.common.params - INFO: - model.soldered_kgs.wiki.entity_linker.entity_embedding.scale_grad_by_freq = False\n",
      "2022-02-22 17:25:52 - allennlp.common.params - INFO: - model.soldered_kgs.wiki.entity_linker.entity_embedding.sparse = False\n",
      "2022-02-22 17:25:53 - allennlp.common.params - INFO: - model.soldered_kgs.wiki.entity_linker.contextual_embedding_dim = 768\n",
      "2022-02-22 17:25:53 - allennlp.common.params - INFO: - model.soldered_kgs.wiki.entity_linker.margin = 0.2\n",
      "2022-02-22 17:25:53 - allennlp.common.params - INFO: - model.soldered_kgs.wiki.entity_linker.decode_threshold = 0.0\n",
      "2022-02-22 17:25:53 - allennlp.common.params - INFO: - model.soldered_kgs.wiki.entity_linker.loss_type = margin\n",
      "2022-02-22 17:25:53 - allennlp.common.params - INFO: - model.soldered_kgs.wiki.entity_linker.max_sequence_length = 512\n",
      "2022-02-22 17:25:53 - allennlp.common.params - INFO: - model.soldered_kgs.wiki.entity_linker.dropout = 0.1\n",
      "2022-02-22 17:25:53 - allennlp.common.params - INFO: - model.soldered_kgs.wiki.entity_linker.output_feed_forward_hidden_dim = 100\n",
      "2022-02-22 17:25:53 - allennlp.common.params - INFO: - model.soldered_kgs.wiki.entity_linker.initializer_range = 0.02\n",
      "2022-02-22 17:25:53 - allennlp.common.params - INFO: - model.soldered_kgs.wiki.entity_linker.include_null_embedding_in_dot_attention = False\n",
      "2022-02-22 17:25:53 - allennlp.common.params - INFO: - model.soldered_kgs.wiki.entity_linker.namespace = entity_wiki\n",
      "2022-02-22 17:25:53 - allennlp.common.params - INFO: - model.soldered_kgs.wiki.should_init_kg_to_bert_inverse = False\n",
      "2022-02-22 17:25:53 - allennlp.common.params - INFO: - model.soldered_kgs.wiki.freeze = False\n",
      "2022-02-22 17:25:53 - allennlp.common.from_params - INFO: - instantiating class <class 'allennlp.models.model.Model'> from params {'entity_linker': {'concat_entity_embedder': {'embedding_file': 'https://allennlp.s3-us-west-2.amazonaws.com/knowbert/wordnet/wordnet_synsets_mask_null_vocab_embeddings_tucker_gensen.hdf5', 'entity_dim': 200, 'entity_file': 'https://allennlp.s3-us-west-2.amazonaws.com/knowbert/wordnet/entities.jsonl', 'entity_h5_key': 'tucker_gensen', 'type': 'wordnet_all_embeddings', 'vocab_file': 'https://allennlp.s3-us-west-2.amazonaws.com/knowbert/wordnet/wordnet_synsets_mask_null_vocab.txt'}, 'contextual_embedding_dim': 768, 'loss_type': 'softmax', 'namespace': 'entity_wordnet', 'span_encoder_config': {'hidden_size': 200, 'intermediate_size': 1024, 'num_attention_heads': 4, 'num_hidden_layers': 1}, 'type': 'entity_linking_with_candidate_mentions'}, 'should_init_kg_to_bert_inverse': False, 'span_attention_config': {'hidden_size': 200, 'intermediate_size': 1024, 'num_attention_heads': 4, 'num_hidden_layers': 1}, 'type': 'soldered_kg'} and extras {'vocab'}\n",
      "2022-02-22 17:25:53 - allennlp.common.params - INFO: - model.soldered_kgs.wordnet.type = soldered_kg\n",
      "2022-02-22 17:25:53 - allennlp.common.from_params - INFO: - instantiating class <class 'kb.knowbert.SolderedKG'> from params {'entity_linker': {'concat_entity_embedder': {'embedding_file': 'https://allennlp.s3-us-west-2.amazonaws.com/knowbert/wordnet/wordnet_synsets_mask_null_vocab_embeddings_tucker_gensen.hdf5', 'entity_dim': 200, 'entity_file': 'https://allennlp.s3-us-west-2.amazonaws.com/knowbert/wordnet/entities.jsonl', 'entity_h5_key': 'tucker_gensen', 'type': 'wordnet_all_embeddings', 'vocab_file': 'https://allennlp.s3-us-west-2.amazonaws.com/knowbert/wordnet/wordnet_synsets_mask_null_vocab.txt'}, 'contextual_embedding_dim': 768, 'loss_type': 'softmax', 'namespace': 'entity_wordnet', 'span_encoder_config': {'hidden_size': 200, 'intermediate_size': 1024, 'num_attention_heads': 4, 'num_hidden_layers': 1}, 'type': 'entity_linking_with_candidate_mentions'}, 'should_init_kg_to_bert_inverse': False, 'span_attention_config': {'hidden_size': 200, 'intermediate_size': 1024, 'num_attention_heads': 4, 'num_hidden_layers': 1}} and extras {'vocab'}\n",
      "2022-02-22 17:25:53 - allennlp.common.from_params - INFO: - instantiating class <class 'allennlp.models.model.Model'> from params {'concat_entity_embedder': {'embedding_file': 'https://allennlp.s3-us-west-2.amazonaws.com/knowbert/wordnet/wordnet_synsets_mask_null_vocab_embeddings_tucker_gensen.hdf5', 'entity_dim': 200, 'entity_file': 'https://allennlp.s3-us-west-2.amazonaws.com/knowbert/wordnet/entities.jsonl', 'entity_h5_key': 'tucker_gensen', 'type': 'wordnet_all_embeddings', 'vocab_file': 'https://allennlp.s3-us-west-2.amazonaws.com/knowbert/wordnet/wordnet_synsets_mask_null_vocab.txt'}, 'contextual_embedding_dim': 768, 'loss_type': 'softmax', 'namespace': 'entity_wordnet', 'span_encoder_config': {'hidden_size': 200, 'intermediate_size': 1024, 'num_attention_heads': 4, 'num_hidden_layers': 1}, 'type': 'entity_linking_with_candidate_mentions'} and extras {'vocab'}\n",
      "2022-02-22 17:25:53 - allennlp.common.params - INFO: - model.soldered_kgs.wordnet.entity_linker.type = entity_linking_with_candidate_mentions\n",
      "2022-02-22 17:25:53 - allennlp.common.from_params - INFO: - instantiating class <class 'kb.knowbert.EntityLinkingWithCandidateMentions'> from params {'concat_entity_embedder': {'embedding_file': 'https://allennlp.s3-us-west-2.amazonaws.com/knowbert/wordnet/wordnet_synsets_mask_null_vocab_embeddings_tucker_gensen.hdf5', 'entity_dim': 200, 'entity_file': 'https://allennlp.s3-us-west-2.amazonaws.com/knowbert/wordnet/entities.jsonl', 'entity_h5_key': 'tucker_gensen', 'type': 'wordnet_all_embeddings', 'vocab_file': 'https://allennlp.s3-us-west-2.amazonaws.com/knowbert/wordnet/wordnet_synsets_mask_null_vocab.txt'}, 'contextual_embedding_dim': 768, 'loss_type': 'softmax', 'namespace': 'entity_wordnet', 'span_encoder_config': {'hidden_size': 200, 'intermediate_size': 1024, 'num_attention_heads': 4, 'num_hidden_layers': 1}} and extras {'vocab'}\n",
      "2022-02-22 17:25:53 - allennlp.common.from_params - INFO: - instantiating class <class 'kb.common.EntityEmbedder'> from params {'embedding_file': 'https://allennlp.s3-us-west-2.amazonaws.com/knowbert/wordnet/wordnet_synsets_mask_null_vocab_embeddings_tucker_gensen.hdf5', 'entity_dim': 200, 'entity_file': 'https://allennlp.s3-us-west-2.amazonaws.com/knowbert/wordnet/entities.jsonl', 'entity_h5_key': 'tucker_gensen', 'type': 'wordnet_all_embeddings', 'vocab_file': 'https://allennlp.s3-us-west-2.amazonaws.com/knowbert/wordnet/wordnet_synsets_mask_null_vocab.txt'} and extras {'vocab'}\n",
      "2022-02-22 17:25:53 - allennlp.common.params - INFO: - model.soldered_kgs.wordnet.entity_linker.concat_entity_embedder.type = wordnet_all_embeddings\n",
      "2022-02-22 17:25:53 - allennlp.common.from_params - INFO: - instantiating class <class 'kb.wordnet.WordNetAllEmbedding'> from params {'embedding_file': 'https://allennlp.s3-us-west-2.amazonaws.com/knowbert/wordnet/wordnet_synsets_mask_null_vocab_embeddings_tucker_gensen.hdf5', 'entity_dim': 200, 'entity_file': 'https://allennlp.s3-us-west-2.amazonaws.com/knowbert/wordnet/entities.jsonl', 'entity_h5_key': 'tucker_gensen', 'vocab_file': 'https://allennlp.s3-us-west-2.amazonaws.com/knowbert/wordnet/wordnet_synsets_mask_null_vocab.txt'} and extras {'vocab'}\n",
      "2022-02-22 17:25:53 - allennlp.common.params - INFO: - model.soldered_kgs.wordnet.entity_linker.concat_entity_embedder.embedding_file = https://allennlp.s3-us-west-2.amazonaws.com/knowbert/wordnet/wordnet_synsets_mask_null_vocab_embeddings_tucker_gensen.hdf5\n",
      "2022-02-22 17:25:53 - allennlp.common.params - INFO: - model.soldered_kgs.wordnet.entity_linker.concat_entity_embedder.entity_dim = 200\n",
      "2022-02-22 17:25:53 - allennlp.common.params - INFO: - model.soldered_kgs.wordnet.entity_linker.concat_entity_embedder.entity_file = https://allennlp.s3-us-west-2.amazonaws.com/knowbert/wordnet/entities.jsonl\n",
      "2022-02-22 17:25:53 - allennlp.common.params - INFO: - model.soldered_kgs.wordnet.entity_linker.concat_entity_embedder.vocab_file = https://allennlp.s3-us-west-2.amazonaws.com/knowbert/wordnet/wordnet_synsets_mask_null_vocab.txt\n",
      "2022-02-22 17:25:53 - allennlp.common.params - INFO: - model.soldered_kgs.wordnet.entity_linker.concat_entity_embedder.entity_h5_key = tucker_gensen\n",
      "2022-02-22 17:25:53 - allennlp.common.params - INFO: - model.soldered_kgs.wordnet.entity_linker.concat_entity_embedder.dropout = 0.1\n",
      "2022-02-22 17:25:53 - allennlp.common.params - INFO: - model.soldered_kgs.wordnet.entity_linker.concat_entity_embedder.pos_embedding_dim = 25\n",
      "2022-02-22 17:25:53 - allennlp.common.params - INFO: - model.soldered_kgs.wordnet.entity_linker.concat_entity_embedder.include_null_embedding = False\n",
      "2022-02-22 17:26:05 - allennlp.common.params - INFO: - model.soldered_kgs.wordnet.entity_linker.contextual_embedding_dim = 768\n",
      "2022-02-22 17:26:05 - allennlp.common.params - INFO: - model.soldered_kgs.wordnet.entity_linker.margin = 0.2\n",
      "2022-02-22 17:26:05 - allennlp.common.params - INFO: - model.soldered_kgs.wordnet.entity_linker.decode_threshold = 0.0\n",
      "2022-02-22 17:26:05 - allennlp.common.params - INFO: - model.soldered_kgs.wordnet.entity_linker.loss_type = softmax\n",
      "2022-02-22 17:26:05 - allennlp.common.params - INFO: - model.soldered_kgs.wordnet.entity_linker.max_sequence_length = 512\n",
      "2022-02-22 17:26:05 - allennlp.common.params - INFO: - model.soldered_kgs.wordnet.entity_linker.dropout = 0.1\n",
      "2022-02-22 17:26:05 - allennlp.common.params - INFO: - model.soldered_kgs.wordnet.entity_linker.output_feed_forward_hidden_dim = 100\n",
      "2022-02-22 17:26:05 - allennlp.common.params - INFO: - model.soldered_kgs.wordnet.entity_linker.initializer_range = 0.02\n",
      "2022-02-22 17:26:05 - allennlp.common.params - INFO: - model.soldered_kgs.wordnet.entity_linker.include_null_embedding_in_dot_attention = False\n",
      "2022-02-22 17:26:05 - allennlp.common.params - INFO: - model.soldered_kgs.wordnet.entity_linker.namespace = entity_wordnet\n",
      "2022-02-22 17:26:05 - allennlp.common.params - INFO: - model.soldered_kgs.wordnet.should_init_kg_to_bert_inverse = False\n",
      "2022-02-22 17:26:05 - allennlp.common.params - INFO: - model.soldered_kgs.wordnet.freeze = False\n",
      "2022-02-22 17:26:05 - allennlp.common.params - INFO: - model.bert_model_name = bert-base-uncased\n",
      "2022-02-22 17:26:05 - allennlp.common.params - INFO: - model.mode = None\n",
      "2022-02-22 17:26:05 - allennlp.common.params - INFO: - model.model_archive = None\n",
      "2022-02-22 17:26:05 - allennlp.common.params - INFO: - model.strict_load_archive = True\n",
      "2022-02-22 17:26:05 - allennlp.common.params - INFO: - model.debug_cuda = False\n",
      "2022-02-22 17:26:05 - allennlp.common.params - INFO: - model.remap_segment_embeddings = None\n",
      "2022-02-22 17:26:05 - pytorch_pretrained_bert.modeling - INFO: - loading archive file https://s3.amazonaws.com/models.huggingface.co/bert/bert-base-uncased.tar.gz from cache at /nas/home/gujiashe/.pytorch_pretrained_bert/9c41111e2de84547a463fd39217199738d1e3deb72d4fec4399e6e241983c6f0.ae3cef932725ca7a30cdcb93fc6e09150a55e2a130ec7af63975a16c153ae2ba\n",
      "2022-02-22 17:26:05 - pytorch_pretrained_bert.modeling - INFO: - extracting archive file /nas/home/gujiashe/.pytorch_pretrained_bert/9c41111e2de84547a463fd39217199738d1e3deb72d4fec4399e6e241983c6f0.ae3cef932725ca7a30cdcb93fc6e09150a55e2a130ec7af63975a16c153ae2ba to temp dir /tmp/tmp3o_52mij\n",
      "2022-02-22 17:26:09 - pytorch_pretrained_bert.modeling - INFO: - Model config {\n",
      "  \"attention_probs_dropout_prob\": 0.1,\n",
      "  \"hidden_act\": \"gelu\",\n",
      "  \"hidden_dropout_prob\": 0.1,\n",
      "  \"hidden_size\": 768,\n",
      "  \"initializer_range\": 0.02,\n",
      "  \"intermediate_size\": 3072,\n",
      "  \"max_position_embeddings\": 512,\n",
      "  \"num_attention_heads\": 12,\n",
      "  \"num_hidden_layers\": 12,\n",
      "  \"type_vocab_size\": 2,\n",
      "  \"vocab_size\": 30522\n",
      "}\n",
      "\n",
      "2022-02-22 17:26:14 - allennlp.common.params - INFO: - random_seed = 13370\n",
      "2022-02-22 17:26:14 - allennlp.common.params - INFO: - numpy_seed = 1337\n",
      "2022-02-22 17:26:14 - allennlp.common.params - INFO: - pytorch_seed = 133\n",
      "2022-02-22 17:26:14 - allennlp.common.checks - INFO: - Pytorch version: 1.2.0\n"
     ]
    }
   ],
   "source": [
    "archive = load_archive(archive_file, cuda_device)\n",
    "config = archive.config\n",
    "prepare_environment(config)"
   ]
  },
  {
   "cell_type": "code",
   "execution_count": 4,
   "metadata": {},
   "outputs": [],
   "source": [
    "# config = Params.from_file(\"/home/scruple/kb/knowbert_wiki_wordnet_model/config.json\")"
   ]
  },
  {
   "cell_type": "code",
   "execution_count": 5,
   "metadata": {},
   "outputs": [
    {
     "name": "stderr",
     "output_type": "stream",
     "text": [
      "2022-02-09 23:06:47 - allennlp.common.params - INFO: - Converting Params object to dict; logging of default values will not occur when dictionary parameters are used subsequently.\n",
      "2022-02-09 23:06:47 - allennlp.common.params - INFO: - CURRENTLY DEFINED PARAMETERS: \n",
      "2022-02-09 23:06:47 - allennlp.common.params - INFO: - dataset_reader.dataset_readers.language_modeling.base_reader.tokenizer_and_candidate_generator.bert_model_type = bert-base-uncased\n",
      "2022-02-09 23:06:47 - allennlp.common.params - INFO: - dataset_reader.dataset_readers.language_modeling.base_reader.tokenizer_and_candidate_generator.do_lower_case = True\n",
      "2022-02-09 23:06:47 - allennlp.common.params - INFO: - dataset_reader.dataset_readers.language_modeling.base_reader.tokenizer_and_candidate_generator.entity_candidate_generators.wiki.type = wiki\n",
      "2022-02-09 23:06:47 - allennlp.common.params - INFO: - dataset_reader.dataset_readers.language_modeling.base_reader.tokenizer_and_candidate_generator.entity_candidate_generators.wordnet.entity_file = https://allennlp.s3-us-west-2.amazonaws.com/knowbert/wordnet/entities.jsonl\n",
      "2022-02-09 23:06:47 - allennlp.common.params - INFO: - dataset_reader.dataset_readers.language_modeling.base_reader.tokenizer_and_candidate_generator.entity_candidate_generators.wordnet.type = wordnet_mention_generator\n",
      "2022-02-09 23:06:47 - allennlp.common.params - INFO: - dataset_reader.dataset_readers.language_modeling.base_reader.tokenizer_and_candidate_generator.entity_indexers.wiki.namespace = entity_wiki\n",
      "2022-02-09 23:06:47 - allennlp.common.params - INFO: - dataset_reader.dataset_readers.language_modeling.base_reader.tokenizer_and_candidate_generator.entity_indexers.wiki.tokenizer.type = word\n",
      "2022-02-09 23:06:47 - allennlp.common.params - INFO: - dataset_reader.dataset_readers.language_modeling.base_reader.tokenizer_and_candidate_generator.entity_indexers.wiki.tokenizer.word_splitter.type = just_spaces\n",
      "2022-02-09 23:06:47 - allennlp.common.params - INFO: - dataset_reader.dataset_readers.language_modeling.base_reader.tokenizer_and_candidate_generator.entity_indexers.wiki.type = characters_tokenizer\n",
      "2022-02-09 23:06:47 - allennlp.common.params - INFO: - dataset_reader.dataset_readers.language_modeling.base_reader.tokenizer_and_candidate_generator.entity_indexers.wordnet.namespace = entity_wordnet\n",
      "2022-02-09 23:06:47 - allennlp.common.params - INFO: - dataset_reader.dataset_readers.language_modeling.base_reader.tokenizer_and_candidate_generator.entity_indexers.wordnet.tokenizer.type = word\n",
      "2022-02-09 23:06:47 - allennlp.common.params - INFO: - dataset_reader.dataset_readers.language_modeling.base_reader.tokenizer_and_candidate_generator.entity_indexers.wordnet.tokenizer.word_splitter.type = just_spaces\n",
      "2022-02-09 23:06:47 - allennlp.common.params - INFO: - dataset_reader.dataset_readers.language_modeling.base_reader.tokenizer_and_candidate_generator.entity_indexers.wordnet.type = characters_tokenizer\n",
      "2022-02-09 23:06:47 - allennlp.common.params - INFO: - dataset_reader.dataset_readers.language_modeling.base_reader.tokenizer_and_candidate_generator.type = bert_tokenizer_and_candidate_generator\n"
     ]
    }
   ],
   "source": [
    "reader_params = config.pop('dataset_reader')\n",
    "# print(reader_params.as_dict())\n",
    "if reader_params['type'] == 'multitask_reader':\n",
    "    reader_params = reader_params['dataset_readers']['language_modeling']\n",
    "# reader_params['num_workers'] = 0\n",
    "validation_reader_params = {\n",
    "    \"type\": \"food\",\n",
    "    \"tokenizer_and_candidate_generator\": reader_params['base_reader']['tokenizer_and_candidate_generator'].as_dict()\n",
    "}\n",
    "dataset_reader = DatasetReader.from_params(Params(validation_reader_params))\n",
    "vocab = dataset_reader._tokenizer_and_candidate_generator.bert_tokenizer.vocab\n",
    "token2word = {}\n",
    "for k, v in vocab.items():\n",
    "    token2word[v] = k"
   ]
  },
  {
   "cell_type": "code",
   "execution_count": 7,
   "metadata": {},
   "outputs": [
    {
     "name": "stderr",
     "output_type": "stream",
     "text": [
      "201it [00:00, 3092.85it/s]\n"
     ]
    }
   ],
   "source": [
    "instances = dataset_reader.read(\"../data/food_compact.tsv\")"
   ]
  },
  {
   "cell_type": "code",
   "execution_count": 8,
   "metadata": {},
   "outputs": [
    {
     "name": "stdout",
     "output_type": "stream",
     "text": [
      "TextField of length 8 with text: \n",
      " \t\t[[CLS], constituent, part, of, egg, is, [MASK], [SEP]]\n",
      " \t\tand TokenIndexers : {'tokens': 'SingleIdTokenIndexer'}\n"
     ]
    }
   ],
   "source": [
    "print(instances[69][\"tokens\"])"
   ]
  },
  {
   "cell_type": "code",
   "execution_count": 9,
   "metadata": {},
   "outputs": [
    {
     "name": "stderr",
     "output_type": "stream",
     "text": [
      "2022-02-09 23:07:59 - allennlp.common.from_params - INFO: - instantiating class <class 'allennlp.data.iterators.data_iterator.DataIterator'> from params {'type': 'basic', 'batch_size': 1} and extras set()\n",
      "2022-02-09 23:07:59 - allennlp.common.params - INFO: - type = basic\n",
      "2022-02-09 23:07:59 - allennlp.common.from_params - INFO: - instantiating class <class 'allennlp.data.iterators.basic_iterator.BasicIterator'> from params {'batch_size': 1} and extras set()\n",
      "2022-02-09 23:07:59 - allennlp.common.params - INFO: - batch_size = 1\n",
      "2022-02-09 23:07:59 - allennlp.common.params - INFO: - instances_per_epoch = None\n",
      "2022-02-09 23:07:59 - allennlp.common.params - INFO: - max_instances_in_memory = None\n",
      "2022-02-09 23:07:59 - allennlp.common.params - INFO: - cache_instances = False\n",
      "2022-02-09 23:07:59 - allennlp.common.params - INFO: - track_epoch = False\n",
      "2022-02-09 23:07:59 - allennlp.common.params - INFO: - maximum_samples_per_batch = None\n",
      "2022-02-09 23:07:59 - root - INFO: - Iterating over dataset\n"
     ]
    },
    {
     "name": "stdout",
     "output_type": "stream",
     "text": [
      "start\n"
     ]
    },
    {
     "name": "stderr",
     "output_type": "stream",
     "text": [
      "100%|██████████| 201/201 [01:08<00:00,  2.95it/s]\n"
     ]
    }
   ],
   "source": [
    "model = archive.model\n",
    "model.eval()\n",
    "\n",
    "\n",
    "print(\"start\")\n",
    "# metrics = evaluate(model, instances, iterator, cuda_device, \"\")\n",
    "data_iterator = DataIterator.from_params(Params(\n",
    "    {\"type\": \"basic\", \"batch_size\": 1}\n",
    "))\n",
    "data_iterator.index_with(model.vocab)\n",
    "iterator = data_iterator(instances,\n",
    "                            num_epochs=1,\n",
    "                            shuffle=False)\n",
    "logger.info(\"Iterating over dataset\")\n",
    "generator_tqdm = Tqdm.tqdm(iterator, total=data_iterator.get_num_batches(instances))\n",
    "with open('prompt2.txt', 'wt') as f:\n",
    "    for instance in generator_tqdm:\n",
    "        batch = nn_util.move_to_device(instance, cuda_device)\n",
    "        output_dict = model(**batch)\n",
    "        pooled_output = output_dict.get(\"pooled_output\")\n",
    "        contextual_embeddings = output_dict.get(\"contextual_embeddings\")\n",
    "        prediction_scores, seq_relationship_score = model.pretraining_heads(\n",
    "        contextual_embeddings, pooled_output\n",
    "        )\n",
    "        prediction_scores = prediction_scores.view(-1, prediction_scores.shape[-1])\n",
    "        # print(\"================\")\n",
    "        # print(prediction_scores)\n",
    "        # print(\"================\")\n",
    "        idx = torch.argmax(prediction_scores, dim = 1)\n",
    "        line = \"\"\n",
    "        for i in idx.cpu().numpy():\n",
    "            line += token2word[i] + \" \"\n",
    "        \n",
    "        print(line, file=f)\n",
    "\n",
    "    "
   ]
  },
  {
   "cell_type": "code",
   "execution_count": 6,
   "metadata": {},
   "outputs": [],
   "source": [
    "# config = Params.from_file(\"/home/scruple/kb/knowbert_wiki_wordnet_model/config.json\")"
   ]
  },
  {
   "cell_type": "code",
   "execution_count": 4,
   "metadata": {},
   "outputs": [
    {
     "name": "stderr",
     "output_type": "stream",
     "text": [
      "2022-02-22 17:26:14 - allennlp.common.params - INFO: - Converting Params object to dict; logging of default values will not occur when dictionary parameters are used subsequently.\n",
      "2022-02-22 17:26:14 - allennlp.common.params - INFO: - CURRENTLY DEFINED PARAMETERS: \n",
      "2022-02-22 17:26:14 - allennlp.common.params - INFO: - dataset_reader.dataset_readers.language_modeling.base_reader.tokenizer_and_candidate_generator.bert_model_type = bert-base-uncased\n",
      "2022-02-22 17:26:14 - allennlp.common.params - INFO: - dataset_reader.dataset_readers.language_modeling.base_reader.tokenizer_and_candidate_generator.do_lower_case = True\n",
      "2022-02-22 17:26:14 - allennlp.common.params - INFO: - dataset_reader.dataset_readers.language_modeling.base_reader.tokenizer_and_candidate_generator.entity_candidate_generators.wiki.type = wiki\n",
      "2022-02-22 17:26:14 - allennlp.common.params - INFO: - dataset_reader.dataset_readers.language_modeling.base_reader.tokenizer_and_candidate_generator.entity_candidate_generators.wordnet.entity_file = https://allennlp.s3-us-west-2.amazonaws.com/knowbert/wordnet/entities.jsonl\n",
      "2022-02-22 17:26:14 - allennlp.common.params - INFO: - dataset_reader.dataset_readers.language_modeling.base_reader.tokenizer_and_candidate_generator.entity_candidate_generators.wordnet.type = wordnet_mention_generator\n",
      "2022-02-22 17:26:14 - allennlp.common.params - INFO: - dataset_reader.dataset_readers.language_modeling.base_reader.tokenizer_and_candidate_generator.entity_indexers.wiki.namespace = entity_wiki\n",
      "2022-02-22 17:26:14 - allennlp.common.params - INFO: - dataset_reader.dataset_readers.language_modeling.base_reader.tokenizer_and_candidate_generator.entity_indexers.wiki.tokenizer.type = word\n",
      "2022-02-22 17:26:14 - allennlp.common.params - INFO: - dataset_reader.dataset_readers.language_modeling.base_reader.tokenizer_and_candidate_generator.entity_indexers.wiki.tokenizer.word_splitter.type = just_spaces\n",
      "2022-02-22 17:26:14 - allennlp.common.params - INFO: - dataset_reader.dataset_readers.language_modeling.base_reader.tokenizer_and_candidate_generator.entity_indexers.wiki.type = characters_tokenizer\n",
      "2022-02-22 17:26:14 - allennlp.common.params - INFO: - dataset_reader.dataset_readers.language_modeling.base_reader.tokenizer_and_candidate_generator.entity_indexers.wordnet.namespace = entity_wordnet\n",
      "2022-02-22 17:26:14 - allennlp.common.params - INFO: - dataset_reader.dataset_readers.language_modeling.base_reader.tokenizer_and_candidate_generator.entity_indexers.wordnet.tokenizer.type = word\n",
      "2022-02-22 17:26:14 - allennlp.common.params - INFO: - dataset_reader.dataset_readers.language_modeling.base_reader.tokenizer_and_candidate_generator.entity_indexers.wordnet.tokenizer.word_splitter.type = just_spaces\n",
      "2022-02-22 17:26:14 - allennlp.common.params - INFO: - dataset_reader.dataset_readers.language_modeling.base_reader.tokenizer_and_candidate_generator.entity_indexers.wordnet.type = characters_tokenizer\n",
      "2022-02-22 17:26:14 - allennlp.common.params - INFO: - dataset_reader.dataset_readers.language_modeling.base_reader.tokenizer_and_candidate_generator.type = bert_tokenizer_and_candidate_generator\n",
      "2022-02-22 17:26:14 - allennlp.common.from_params - INFO: - instantiating class <class 'allennlp.data.dataset_readers.dataset_reader.DatasetReader'> from params {'type': 'kg_probe', 'tokenizer_and_candidate_generator': {'bert_model_type': 'bert-base-uncased', 'do_lower_case': True, 'entity_candidate_generators': {'wiki': {'type': 'wiki'}, 'wordnet': {'entity_file': 'https://allennlp.s3-us-west-2.amazonaws.com/knowbert/wordnet/entities.jsonl', 'type': 'wordnet_mention_generator'}}, 'entity_indexers': {'wiki': {'namespace': 'entity_wiki', 'tokenizer': {'type': 'word', 'word_splitter': {'type': 'just_spaces'}}, 'type': 'characters_tokenizer'}, 'wordnet': {'namespace': 'entity_wordnet', 'tokenizer': {'type': 'word', 'word_splitter': {'type': 'just_spaces'}}, 'type': 'characters_tokenizer'}}, 'type': 'bert_tokenizer_and_candidate_generator'}} and extras set()\n",
      "2022-02-22 17:26:14 - allennlp.common.params - INFO: - type = kg_probe\n",
      "2022-02-22 17:26:14 - allennlp.common.from_params - INFO: - instantiating class <class 'kb.kg_probe_reader.KgProbeReader'> from params {'tokenizer_and_candidate_generator': {'bert_model_type': 'bert-base-uncased', 'do_lower_case': True, 'entity_candidate_generators': {'wiki': {'type': 'wiki'}, 'wordnet': {'entity_file': 'https://allennlp.s3-us-west-2.amazonaws.com/knowbert/wordnet/entities.jsonl', 'type': 'wordnet_mention_generator'}}, 'entity_indexers': {'wiki': {'namespace': 'entity_wiki', 'tokenizer': {'type': 'word', 'word_splitter': {'type': 'just_spaces'}}, 'type': 'characters_tokenizer'}, 'wordnet': {'namespace': 'entity_wordnet', 'tokenizer': {'type': 'word', 'word_splitter': {'type': 'just_spaces'}}, 'type': 'characters_tokenizer'}}, 'type': 'bert_tokenizer_and_candidate_generator'}} and extras set()\n",
      "2022-02-22 17:26:14 - allennlp.common.from_params - INFO: - instantiating class <class 'kb.bert_tokenizer_and_candidate_generator.TokenizerAndCandidateGenerator'> from params {'bert_model_type': 'bert-base-uncased', 'do_lower_case': True, 'entity_candidate_generators': {'wiki': {'type': 'wiki'}, 'wordnet': {'entity_file': 'https://allennlp.s3-us-west-2.amazonaws.com/knowbert/wordnet/entities.jsonl', 'type': 'wordnet_mention_generator'}}, 'entity_indexers': {'wiki': {'namespace': 'entity_wiki', 'tokenizer': {'type': 'word', 'word_splitter': {'type': 'just_spaces'}}, 'type': 'characters_tokenizer'}, 'wordnet': {'namespace': 'entity_wordnet', 'tokenizer': {'type': 'word', 'word_splitter': {'type': 'just_spaces'}}, 'type': 'characters_tokenizer'}}, 'type': 'bert_tokenizer_and_candidate_generator'} and extras set()\n",
      "2022-02-22 17:26:14 - allennlp.common.params - INFO: - tokenizer_and_candidate_generator.type = bert_tokenizer_and_candidate_generator\n",
      "2022-02-22 17:26:14 - allennlp.common.from_params - INFO: - instantiating class <class 'kb.bert_tokenizer_and_candidate_generator.BertTokenizerAndCandidateGenerator'> from params {'bert_model_type': 'bert-base-uncased', 'do_lower_case': True, 'entity_candidate_generators': {'wiki': {'type': 'wiki'}, 'wordnet': {'entity_file': 'https://allennlp.s3-us-west-2.amazonaws.com/knowbert/wordnet/entities.jsonl', 'type': 'wordnet_mention_generator'}}, 'entity_indexers': {'wiki': {'namespace': 'entity_wiki', 'tokenizer': {'type': 'word', 'word_splitter': {'type': 'just_spaces'}}, 'type': 'characters_tokenizer'}, 'wordnet': {'namespace': 'entity_wordnet', 'tokenizer': {'type': 'word', 'word_splitter': {'type': 'just_spaces'}}, 'type': 'characters_tokenizer'}}} and extras set()\n",
      "2022-02-22 17:26:14 - allennlp.common.from_params - INFO: - instantiating class <class 'kb.common.MentionGenerator'> from params {'type': 'wiki'} and extras set()\n",
      "2022-02-22 17:26:14 - allennlp.common.params - INFO: - tokenizer_and_candidate_generator.entity_candidate_generators.wiki.type = wiki\n",
      "2022-02-22 17:26:14 - allennlp.common.from_params - INFO: - instantiating class <class 'kb.wiki_linking_util.WikiCandidateMentionGenerator'> from params {} and extras set()\n",
      "2022-02-22 17:26:14 - allennlp.common.params - INFO: - tokenizer_and_candidate_generator.entity_candidate_generators.wiki.candidates_file = None\n",
      "2022-02-22 17:26:14 - allennlp.common.params - INFO: - tokenizer_and_candidate_generator.entity_candidate_generators.wiki.entity_world_path = None\n",
      "2022-02-22 17:26:14 - allennlp.common.params - INFO: - tokenizer_and_candidate_generator.entity_candidate_generators.wiki.lowercase_candidates = True\n",
      "2022-02-22 17:26:14 - allennlp.common.params - INFO: - tokenizer_and_candidate_generator.entity_candidate_generators.wiki.random_candidates = False\n",
      "2022-02-22 17:26:14 - allennlp.common.params - INFO: - tokenizer_and_candidate_generator.entity_candidate_generators.wiki.pickle_cache_file = None\n"
     ]
    },
    {
     "name": "stdout",
     "output_type": "stream",
     "text": [
      "duplicate_mentions_cnt:  6777\n",
      "end of p_e_m reading. wall time: 1.2795546372731528  minutes\n",
      "p_e_m_errors:  0\n",
      "incompatible_ent_ids:  0\n"
     ]
    },
    {
     "name": "stderr",
     "output_type": "stream",
     "text": [
      "2022-02-22 17:28:15 - allennlp.common.from_params - INFO: - instantiating class <class 'kb.common.MentionGenerator'> from params {'entity_file': 'https://allennlp.s3-us-west-2.amazonaws.com/knowbert/wordnet/entities.jsonl', 'type': 'wordnet_mention_generator'} and extras set()\n",
      "2022-02-22 17:28:15 - allennlp.common.params - INFO: - tokenizer_and_candidate_generator.entity_candidate_generators.wordnet.type = wordnet_mention_generator\n",
      "2022-02-22 17:28:15 - allennlp.common.from_params - INFO: - instantiating class <class 'kb.wordnet.WordNetCandidateMentionGenerator'> from params {'entity_file': 'https://allennlp.s3-us-west-2.amazonaws.com/knowbert/wordnet/entities.jsonl'} and extras set()\n",
      "2022-02-22 17:28:15 - allennlp.common.params - INFO: - tokenizer_and_candidate_generator.entity_candidate_generators.wordnet.entity_file = https://allennlp.s3-us-west-2.amazonaws.com/knowbert/wordnet/entities.jsonl\n",
      "2022-02-22 17:28:15 - allennlp.common.params - INFO: - tokenizer_and_candidate_generator.entity_candidate_generators.wordnet.max_entity_length = 7\n",
      "2022-02-22 17:28:15 - allennlp.common.params - INFO: - tokenizer_and_candidate_generator.entity_candidate_generators.wordnet.max_number_candidates = 30\n",
      "2022-02-22 17:28:15 - allennlp.common.params - INFO: - tokenizer_and_candidate_generator.entity_candidate_generators.wordnet.count_smoothing = 1\n",
      "2022-02-22 17:28:15 - allennlp.common.params - INFO: - tokenizer_and_candidate_generator.entity_candidate_generators.wordnet.use_surface_form = False\n",
      "2022-02-22 17:28:15 - allennlp.common.params - INFO: - tokenizer_and_candidate_generator.entity_candidate_generators.wordnet.random_candidates = False\n",
      "2022-02-22 17:28:17 - allennlp.common.from_params - INFO: - instantiating class allennlp.data.token_indexers.token_indexer.TokenIndexer from params {'namespace': 'entity_wiki', 'tokenizer': {'type': 'word', 'word_splitter': {'type': 'just_spaces'}}, 'type': 'characters_tokenizer'} and extras set()\n",
      "2022-02-22 17:28:17 - allennlp.common.params - INFO: - tokenizer_and_candidate_generator.entity_indexers.wiki.type = characters_tokenizer\n",
      "2022-02-22 17:28:17 - allennlp.common.from_params - INFO: - instantiating class <class 'allennlp.data.tokenizers.tokenizer.Tokenizer'> from params {'type': 'word', 'word_splitter': {'type': 'just_spaces'}} and extras set()\n",
      "2022-02-22 17:28:17 - allennlp.common.params - INFO: - tokenizer_and_candidate_generator.entity_indexers.wiki.tokenizer.type = word\n",
      "2022-02-22 17:28:17 - allennlp.common.from_params - INFO: - instantiating class <class 'allennlp.data.tokenizers.word_tokenizer.WordTokenizer'> from params {'word_splitter': {'type': 'just_spaces'}} and extras set()\n",
      "2022-02-22 17:28:17 - allennlp.common.from_params - INFO: - instantiating class <class 'allennlp.data.tokenizers.word_splitter.WordSplitter'> from params {'type': 'just_spaces'} and extras set()\n",
      "2022-02-22 17:28:17 - allennlp.common.params - INFO: - tokenizer_and_candidate_generator.entity_indexers.wiki.tokenizer.word_splitter.type = just_spaces\n",
      "2022-02-22 17:28:17 - allennlp.common.from_params - INFO: - instantiating class <class 'allennlp.data.tokenizers.word_splitter.JustSpacesWordSplitter'> from params {} and extras set()\n",
      "2022-02-22 17:28:17 - allennlp.common.params - INFO: - tokenizer_and_candidate_generator.entity_indexers.wiki.tokenizer.start_tokens = None\n",
      "2022-02-22 17:28:17 - allennlp.common.params - INFO: - tokenizer_and_candidate_generator.entity_indexers.wiki.tokenizer.end_tokens = None\n",
      "2022-02-22 17:28:17 - allennlp.common.from_params - INFO: - instantiating class allennlp.data.token_indexers.token_characters_indexer.TokenCharactersIndexer from params {'namespace': 'entity_wiki'} and extras set()\n",
      "2022-02-22 17:28:17 - allennlp.common.params - INFO: - tokenizer_and_candidate_generator.entity_indexers.wiki.namespace = entity_wiki\n",
      "2022-02-22 17:28:17 - allennlp.common.params - INFO: - tokenizer_and_candidate_generator.entity_indexers.wiki.start_tokens = None\n",
      "2022-02-22 17:28:17 - allennlp.common.params - INFO: - tokenizer_and_candidate_generator.entity_indexers.wiki.end_tokens = None\n",
      "2022-02-22 17:28:17 - allennlp.common.params - INFO: - tokenizer_and_candidate_generator.entity_indexers.wiki.min_padding_length = 0\n",
      "2022-02-22 17:28:17 - allennlp.common.from_params - INFO: - instantiating class allennlp.data.token_indexers.token_indexer.TokenIndexer from params {'namespace': 'entity_wordnet', 'tokenizer': {'type': 'word', 'word_splitter': {'type': 'just_spaces'}}, 'type': 'characters_tokenizer'} and extras set()\n",
      "2022-02-22 17:28:17 - allennlp.common.params - INFO: - tokenizer_and_candidate_generator.entity_indexers.wordnet.type = characters_tokenizer\n",
      "2022-02-22 17:28:17 - allennlp.common.from_params - INFO: - instantiating class <class 'allennlp.data.tokenizers.tokenizer.Tokenizer'> from params {'type': 'word', 'word_splitter': {'type': 'just_spaces'}} and extras set()\n",
      "2022-02-22 17:28:17 - allennlp.common.params - INFO: - tokenizer_and_candidate_generator.entity_indexers.wordnet.tokenizer.type = word\n",
      "2022-02-22 17:28:17 - allennlp.common.from_params - INFO: - instantiating class <class 'allennlp.data.tokenizers.word_tokenizer.WordTokenizer'> from params {'word_splitter': {'type': 'just_spaces'}} and extras set()\n",
      "2022-02-22 17:28:17 - allennlp.common.from_params - INFO: - instantiating class <class 'allennlp.data.tokenizers.word_splitter.WordSplitter'> from params {'type': 'just_spaces'} and extras set()\n",
      "2022-02-22 17:28:17 - allennlp.common.params - INFO: - tokenizer_and_candidate_generator.entity_indexers.wordnet.tokenizer.word_splitter.type = just_spaces\n",
      "2022-02-22 17:28:17 - allennlp.common.from_params - INFO: - instantiating class <class 'allennlp.data.tokenizers.word_splitter.JustSpacesWordSplitter'> from params {} and extras set()\n",
      "2022-02-22 17:28:17 - allennlp.common.params - INFO: - tokenizer_and_candidate_generator.entity_indexers.wordnet.tokenizer.start_tokens = None\n",
      "2022-02-22 17:28:17 - allennlp.common.params - INFO: - tokenizer_and_candidate_generator.entity_indexers.wordnet.tokenizer.end_tokens = None\n",
      "2022-02-22 17:28:17 - allennlp.common.from_params - INFO: - instantiating class allennlp.data.token_indexers.token_characters_indexer.TokenCharactersIndexer from params {'namespace': 'entity_wordnet'} and extras set()\n",
      "2022-02-22 17:28:17 - allennlp.common.params - INFO: - tokenizer_and_candidate_generator.entity_indexers.wordnet.namespace = entity_wordnet\n",
      "2022-02-22 17:28:17 - allennlp.common.params - INFO: - tokenizer_and_candidate_generator.entity_indexers.wordnet.start_tokens = None\n",
      "2022-02-22 17:28:17 - allennlp.common.params - INFO: - tokenizer_and_candidate_generator.entity_indexers.wordnet.end_tokens = None\n",
      "2022-02-22 17:28:17 - allennlp.common.params - INFO: - tokenizer_and_candidate_generator.entity_indexers.wordnet.min_padding_length = 0\n",
      "2022-02-22 17:28:17 - allennlp.common.params - INFO: - tokenizer_and_candidate_generator.bert_model_type = bert-base-uncased\n",
      "2022-02-22 17:28:17 - allennlp.common.params - INFO: - tokenizer_and_candidate_generator.do_lower_case = True\n",
      "2022-02-22 17:28:17 - allennlp.common.params - INFO: - tokenizer_and_candidate_generator.whitespace_tokenize = True\n",
      "2022-02-22 17:28:17 - allennlp.common.params - INFO: - tokenizer_and_candidate_generator.max_word_piece_sequence_length = 512\n",
      "2022-02-22 17:28:18 - pytorch_pretrained_bert.tokenization - INFO: - loading vocabulary file https://s3.amazonaws.com/models.huggingface.co/bert/bert-base-uncased-vocab.txt from cache at /nas/home/gujiashe/.pytorch_pretrained_bert/26bc1ad6c0ac742e9b52263248f6d0f00068293b33709fae12320c0e35ccfbbb.542ce4285a40d23a559526243235df47c5f75c197f04f37d1a0c124c32c9a084\n",
      "2022-02-22 17:28:18 - allennlp.common.params - INFO: - lazy = False\n"
     ]
    }
   ],
   "source": [
    "reader_params = config.pop('dataset_reader')\n",
    "if reader_params['type'] == 'multitask_reader':\n",
    "    reader_params = reader_params['dataset_readers']['language_modeling']\n",
    "# reader_params['num_workers'] = 0\n",
    "validation_reader_params = {\n",
    "    \"type\": \"kg_probe\",\n",
    "    \"tokenizer_and_candidate_generator\": reader_params['base_reader']['tokenizer_and_candidate_generator'].as_dict()\n",
    "}\n",
    "dataset_reader = DatasetReader.from_params(Params(validation_reader_params))\n",
    "\n",
    "vocab = dataset_reader._tokenizer_and_candidate_generator.bert_tokenizer.vocab\n",
    "token2word = {}\n",
    "for k, v in vocab.items():\n",
    "    token2word[v] = k"
   ]
  },
  {
   "cell_type": "code",
   "execution_count": 5,
   "metadata": {},
   "outputs": [
    {
     "name": "stderr",
     "output_type": "stream",
     "text": [
      "11166it [00:17, 649.29it/s]"
     ]
    },
    {
     "name": "stdout",
     "output_type": "stream",
     "text": [
      "Instance with fields:\n",
      " \t tokens: TextField of length 20 with text: \n",
      " \t\t[[CLS], [MASK], [MASK], was, born, on, 24, april, 1934, ., his, mother, is, lakshmi, raja, ##go,\n",
      "\t\t##pala, ##cha, ##ri, [SEP]]\n",
      " \t\tand TokenIndexers : {'tokens': 'SingleIdTokenIndexer'} \n",
      " \t segment_ids: ArrayField with shape: (20,). \n",
      " \t candidates:  \n",
      " \t lm_label_ids: TextField of length 20 with text: \n",
      " \t\t[[CLS], tara, gandhi, was, born, on, 24, april, 1934, ., his, mother, is, lakshmi, raja, ##go,\n",
      "\t\t##pala, ##cha, ##ri, [SEP]]\n",
      " \t\tand TokenIndexers : {'lm_labels': 'SingleIdTokenIndexer'} \n",
      " \t mask_indicator: ArrayField with shape: (20,). \n",
      "\n"
     ]
    },
    {
     "name": "stderr",
     "output_type": "stream",
     "text": [
      "\n"
     ]
    }
   ],
   "source": [
    "instances = dataset_reader.read(\"/nas/home/gujiashe/kb/sentences_birth.tsv\")\n",
    "print(instances[0])"
   ]
  },
  {
   "cell_type": "code",
   "execution_count": 12,
   "metadata": {},
   "outputs": [
    {
     "name": "stdout",
     "output_type": "stream",
     "text": [
      "['0 1'\n",
      " 'Tara Gandhi was born on 24 April 1934 . His mother is Lakshmi Rajagopalachari']\n"
     ]
    }
   ],
   "source": [
    "import pandas as pd\n",
    " \n",
    "birth_df = pd.read_csv('/nas/home/gujiashe/kb/sentences_birth.tsv', sep='\\t')\n",
    "\n",
    "\n",
    "birth = birth_df.values\n",
    "print(birth[0])"
   ]
  },
  {
   "cell_type": "code",
   "execution_count": 28,
   "metadata": {},
   "outputs": [
    {
     "name": "stderr",
     "output_type": "stream",
     "text": [
      "2022-02-22 17:38:28 - allennlp.common.from_params - INFO: - instantiating class <class 'allennlp.data.iterators.data_iterator.DataIterator'> from params {'type': 'basic', 'batch_size': 1} and extras set()\n",
      "2022-02-22 17:38:28 - allennlp.common.params - INFO: - type = basic\n",
      "2022-02-22 17:38:28 - allennlp.common.from_params - INFO: - instantiating class <class 'allennlp.data.iterators.basic_iterator.BasicIterator'> from params {'batch_size': 1} and extras set()\n",
      "2022-02-22 17:38:28 - allennlp.common.params - INFO: - batch_size = 1\n",
      "2022-02-22 17:38:28 - allennlp.common.params - INFO: - instances_per_epoch = None\n",
      "2022-02-22 17:38:28 - allennlp.common.params - INFO: - max_instances_in_memory = None\n",
      "2022-02-22 17:38:28 - allennlp.common.params - INFO: - cache_instances = False\n",
      "2022-02-22 17:38:28 - allennlp.common.params - INFO: - track_epoch = False\n",
      "2022-02-22 17:38:28 - allennlp.common.params - INFO: - maximum_samples_per_batch = None\n",
      "2022-02-22 17:38:28 - root - INFO: - Iterating over dataset\n"
     ]
    },
    {
     "name": "stdout",
     "output_type": "stream",
     "text": [
      "start\n"
     ]
    },
    {
     "name": "stderr",
     "output_type": "stream",
     "text": [
      "  1%|          | 99/11166 [00:05<11:03, 16.69it/s]\n"
     ]
    }
   ],
   "source": [
    "model = archive.model\n",
    "model.eval()\n",
    "\n",
    "\n",
    "print(\"start\")\n",
    "# metrics = evaluate(model, instances, iterator, cuda_device, \"\")\n",
    "data_iterator = DataIterator.from_params(Params(\n",
    "    {\"type\": \"basic\", \"batch_size\": 1}\n",
    "))\n",
    "data_iterator.index_with(model.vocab)\n",
    "iterator = data_iterator(instances,\n",
    "                            num_epochs=1,\n",
    "                            shuffle=False)\n",
    "logger.info(\"Iterating over dataset\")\n",
    "generator_tqdm = Tqdm.tqdm(iterator, total=data_iterator.get_num_batches(instances))\n",
    "rows = 0\n",
    "with open('birth1.txt', 'wt') as f:\n",
    "    for instance in generator_tqdm:\n",
    "        rows+=1\n",
    "\n",
    "        batch = nn_util.move_to_device(instance, cuda_device)\n",
    "        output_dict = model(**batch)\n",
    "        pooled_output = output_dict.get(\"pooled_output\")\n",
    "        contextual_embeddings = output_dict.get(\"contextual_embeddings\")\n",
    "        prediction_scores, seq_relationship_score = model.pretraining_heads(\n",
    "        contextual_embeddings, pooled_output\n",
    "        )\n",
    "        prediction_scores = prediction_scores.view(-1, prediction_scores.shape[-1])\n",
    "        \n",
    "        vals, idxs = torch.topk(prediction_scores, k = 5, dim = 1)\n",
    "        idxs = idxs.cpu().numpy()\n",
    "        lines = []\n",
    "        print(\"row: \", rows, file=f)\n",
    "        print(\"================\", file=f)\n",
    "        print(\"source: \", birth[rows - 1, 1], file = f)\n",
    "        masked = []\n",
    "        for id in range(len(idxs)):\n",
    "            masked += [token2word[instance[\"tokens\"][\"tokens\"][0][id].item()]]\n",
    "        masked = \" \".join(masked[1: -1])\n",
    "        print(\"masked: \", masked, file = f)\n",
    "        for k in range(5):\n",
    "            line = []\n",
    "            for i, idx in enumerate(idxs):\n",
    "                if instance[\"tokens\"][\"tokens\"][0][i] != 103:\n",
    "                    line += [token2word[instance[\"tokens\"][\"tokens\"][0][i].item()]]\n",
    "                else:\n",
    "                    line += [token2word[idx[k]]]\n",
    "            \n",
    "            line = \" \".join(line[1: -1])\n",
    "            line = line.split(\" ##\")\n",
    "            line = \"\".join(line)\n",
    "            print(\"{}     :  \".format(k) + line, file=f)\n",
    "        print(\"================\", file=f)\n",
    "        if rows>99:\n",
    "            break\n",
    "    "
   ]
  }
 ],
 "metadata": {
  "interpreter": {
   "hash": "32459ed5093ebb7fba2e0a98e8ed8c01f1a4aa667381f7e7c3dd05affc8c7846"
  },
  "kernelspec": {
   "display_name": "Python 3.6.7 ('knowbert')",
   "language": "python",
   "name": "python3"
  },
  "language_info": {
   "codemirror_mode": {
    "name": "ipython",
    "version": 3
   },
   "file_extension": ".py",
   "mimetype": "text/x-python",
   "name": "python",
   "nbconvert_exporter": "python",
   "pygments_lexer": "ipython3",
   "version": "3.6.7"
  },
  "orig_nbformat": 4
 },
 "nbformat": 4,
 "nbformat_minor": 2
}
