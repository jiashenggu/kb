{
 "cells": [
  {
   "cell_type": "code",
   "execution_count": 42,
   "metadata": {},
   "outputs": [
    {
     "name": "stdout",
     "output_type": "stream",
     "text": [
      "21323\n"
     ]
    }
   ],
   "source": [
    "with open('/nas/home/gujiashe/kb/sentences_birth.tsv', 'r') as t:\n",
    "    i = 0\n",
    "    for line in t:\n",
    "        i+=1\n",
    "    print(i)"
   ]
  },
  {
   "cell_type": "code",
   "execution_count": 43,
   "metadata": {},
   "outputs": [
    {
     "name": "stdout",
     "output_type": "stream",
     "text": [
      "141132\n"
     ]
    }
   ],
   "source": [
    "import datetime\n",
    "import csv\n",
    "with open('/data02/wikidata-frame-completion/data/birth_table.tsv', 'r') as t:\n",
    "    i = 0\n",
    "    sentences_birth = open(\"sentences_birth.tsv\", \"w\")\n",
    "    tsv_writer = csv.writer(sentences_birth, delimiter='\\t')\n",
    "    for line in t:\n",
    "        i+=1\n",
    "        if i==1:\n",
    "            continue\n",
    "        \n",
    "        person, mother, place, date = line.split('\\t')\n",
    "        if len(mother) == 0:\n",
    "            continue\n",
    "        person = person.split(\"@\")[0].strip(\"''\").split()\n",
    "        mother = mother.split(\"@\")[0].strip(\"''\").split()\n",
    "        place = place.split(\"@\")[0].strip(\"''\").split()\n",
    "        # print(\"person: \", person,  \"mother: \", mother, \"place: \", place, \"date: \", date, len(place), len(date))\n",
    "        # s = \"[PERSON] was born on [DATE_OF_BIRTH] at [PLACE_OF_BIRTH]. His mother is [MOTHER].\"\n",
    "        s = person.copy()\n",
    "        s.extend([\"was\", \"born\"])\n",
    "        spans = []\n",
    "        len_place = len(place)\n",
    "        len_date = len(date)\n",
    "        if len_place == 0 and len_date < 2:\n",
    "            continue\n",
    "        if len_place > 0:\n",
    "            s.append(\"at\")\n",
    "            s.extend(place)\n",
    "            spans.append([len(s) - len(place), len(s) - 1])\n",
    "        if len_date > 1:\n",
    "            date = date.split('T')[0][1:]\n",
    "            year, month, day = date.split('-')\n",
    "            year = int(year)\n",
    "            month = int(month)\n",
    "            day = int(day)\n",
    "            d = datetime.date(year, month, day)\n",
    "            date = d.strftime(\"%d %B %Y\").split()\n",
    "            s.append(\"on\")\n",
    "            s.extend(date)\n",
    "            spans.append([len(s) - 3, len(s) - 1])\n",
    "        s.append('.')\n",
    "        if len(mother) > 0:\n",
    "            s.extend([\"His\", \"mother\", \"is\"])\n",
    "            s.extend(mother)\n",
    "            spans.append([len(s) - len(mother), len(s) - 1])\n",
    "        # print(s)\n",
    "        for span in spans:\n",
    "            tsv_writer.writerow(span + s)\n",
    "        s = \" \".join(s)\n",
    "        # print(spans)\n",
    "        # print(s)\n",
    "        # if i>10:\n",
    "        #     breaks\n",
    "    sentences_birth.close()\n",
    "    print(i)"
   ]
  },
  {
   "cell_type": "code",
   "execution_count": null,
   "metadata": {},
   "outputs": [],
   "source": [
    "# kgtk query -i Person0.tsv  -i Mother0.tsv  -i Place0.tsv  -i Date0.tsv  -i labels.en.tsv.gz --match \"Person: (q)-[]->(n)\" --opt \"Mother: (q)-[]->(m), labels: (m)-[]->(mm)\" --opt \"Place: (q)-[]->(p), labels: (p)-[]->(pp)\" --opt \"Date: (q)-[]->(d)\" --return \"n as Person, mm as Mother, pp as Place_of_birth, d as Date_of_birth\" -o birth_table.tsv"
   ]
  }
 ],
 "metadata": {
  "interpreter": {
   "hash": "1f24110ee2db4d48ba4b1000bf22589bea4791e16fd0364b7a9875ecc3c21267"
  },
  "kernelspec": {
   "display_name": "Python 3.6.7 ('knowbert')",
   "language": "python",
   "name": "python3"
  },
  "language_info": {
   "codemirror_mode": {
    "name": "ipython",
    "version": 3
   },
   "file_extension": ".py",
   "mimetype": "text/x-python",
   "name": "python",
   "nbconvert_exporter": "python",
   "pygments_lexer": "ipython3",
   "version": "3.6.7"
  },
  "orig_nbformat": 4
 },
 "nbformat": 4,
 "nbformat_minor": 2
}
