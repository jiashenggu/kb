{
 "cells": [
  {
   "cell_type": "code",
   "execution_count": 1,
   "metadata": {},
   "outputs": [
    {
     "name": "stderr",
     "output_type": "stream",
     "text": [
      "/nas/home/gujiashe/miniconda3/envs/knowbert/lib/python3.6/site-packages/sklearn/utils/linear_assignment_.py:22: FutureWarning: The linear_assignment_ module is deprecated in 0.21 and will be removed from 0.23. Use scipy.optimize.linear_sum_assignment instead.\n",
      "  FutureWarning)\n",
      "/nas/home/gujiashe/miniconda3/envs/knowbert/lib/python3.6/site-packages/allennlp/data/token_indexers/token_characters_indexer.py:51: UserWarning: You are using the default value (0) of `min_padding_length`, which can cause some subtle bugs (more info see https://github.com/allenai/allennlp/issues/1954). Strongly recommend to set a value, usually the maximum size of the convolutional layer size when using CnnEncoder.\n",
      "  UserWarning)\n"
     ]
    }
   ],
   "source": [
    "\n",
    "import tqdm\n",
    "import numpy as np \n",
    "import pandas as pd\n",
    "import matplotlib.pyplot as plt\n",
    "\n",
    "from allennlp.models.archival import load_archive\n",
    "from allennlp.data import DatasetReader, DataIterator\n",
    "from allennlp.common import Params\n",
    "from allennlp.nn.util import move_to_device\n",
    "\n",
    "from kb.include_all import BertPretrainedMaskedLM, KnowBert\n",
    "%load_ext autoreload\n",
    "%autoreload 2\n",
    "import warnings\n",
    "warnings.filterwarnings(\"ignore\")\n"
   ]
  },
  {
   "cell_type": "code",
   "execution_count": 2,
   "metadata": {},
   "outputs": [],
   "source": [
    "evaluation_file = \"/nas/home/gujiashe/trans/knowbert_ppl_top10.tsv\"\n",
    "model_archive=\"knowbert_wiki_wordnet_model\"\n",
    "random_candidates=False\n",
    "archive = load_archive(model_archive)\n",
    "model = archive.model\n",
    "vocab = model.vocab\n",
    "params = archive.config\n",
    "\n",
    "model.multitask = False\n",
    "model.multitask_kg = False\n",
    "model.cuda()\n",
    "model.eval()\n",
    "for p in model.parameters():\n",
    "    p.requires_grad_(False)\n"
   ]
  },
  {
   "cell_type": "code",
   "execution_count": 3,
   "metadata": {},
   "outputs": [],
   "source": [
    "config = Params.from_file(\"/nas/home/gujiashe/kb/knowbert_wiki_wordnet_model/config.json\")"
   ]
  },
  {
   "cell_type": "code",
   "execution_count": 4,
   "metadata": {},
   "outputs": [
    {
     "name": "stdout",
     "output_type": "stream",
     "text": [
      "duplicate_mentions_cnt:  6777\n",
      "end of p_e_m reading. wall time: 1.2904848337173462  minutes\n",
      "p_e_m_errors:  0\n",
      "incompatible_ent_ids:  0\n"
     ]
    }
   ],
   "source": [
    "\n",
    "# reader_params = config.pop('dataset_reader')\n",
    "# if reader_params['type'] == 'multitask_reader':\n",
    "#     reader_params = reader_params['dataset_readers']['language_modeling']\n",
    "# # reader_params['num_workers'] = 0\n",
    "# if random_candidates:\n",
    "#         for k, v in reader_params['base_reader']['tokenizer_and_candidate_generator']['entity_candidate_generators'].items():\n",
    "#             v['random_candidates'] = True\n",
    "# print(reader_params.as_dict())\n",
    "# dataset_reader = DatasetReader.from_params(Params(reader_params))\n",
    "\n",
    "iterator = DataIterator.from_params(Params({\n",
    "        \"type\": \"self_attn_bucket\",\n",
    "        \"batch_size_schedule\": \"base-11gb-fp32\",\n",
    "        \"iterator\":{\n",
    "                \"type\": \"bucket\",\n",
    "                \"batch_size\": 1,\n",
    "                \"sorting_keys\": [[\"tokens\", \"num_tokens\"]],\n",
    "                \"max_instances_in_memory\": 2500,\n",
    "            }\n",
    "}))\n",
    "iterator.index_with(model.vocab)\n",
    "# # instances = reader.read(evaluation_file)\n",
    "# print(\"Start!\")\n",
    "reader_params = config.pop('dataset_reader')\n",
    "if reader_params['type'] == 'multitask_reader':\n",
    "    reader_params = reader_params['dataset_readers']['language_modeling']\n",
    "# reader_params['num_workers'] = 0\n",
    "validation_reader_params = {\n",
    "    \"type\": \"kg_probe\",\n",
    "    \"tokenizer_and_candidate_generator\": reader_params['base_reader']['tokenizer_and_candidate_generator'].as_dict()\n",
    "}\n",
    "dataset_reader = DatasetReader.from_params(Params(validation_reader_params))\n",
    "\n",
    "vocab = dataset_reader._tokenizer_and_candidate_generator.bert_tokenizer.vocab\n",
    "token2word = {}\n",
    "for k, v in vocab.items():\n",
    "    token2word[v] = k"
   ]
  },
  {
   "cell_type": "code",
   "execution_count": 9,
   "metadata": {},
   "outputs": [
    {
     "name": "stderr",
     "output_type": "stream",
     "text": [
      "49820it [00:43, 1139.58it/s]\n"
     ]
    },
    {
     "data": {
      "text/plain": [
       "<allennlp.data.instance.Instance at 0x7ff6a8512eb8>"
      ]
     },
     "execution_count": 9,
     "metadata": {},
     "output_type": "execute_result"
    }
   ],
   "source": [
    "instances = dataset_reader.read(evaluation_file)\n",
    "instances[0]"
   ]
  },
  {
   "cell_type": "code",
   "execution_count": 10,
   "metadata": {},
   "outputs": [
    {
     "name": "stderr",
     "output_type": "stream",
     "text": [
      "49820it [00:42, 1159.63it/s]\n",
      "49820it [30:08, 27.54it/s]\n"
     ]
    }
   ],
   "source": [
    "ppls = []\n",
    "instances = dataset_reader.read(evaluation_file)\n",
    "for batch_no, batch in enumerate(tqdm.tqdm(iterator(instances, num_epochs=1))):\n",
    "    b = move_to_device(batch, 0)\n",
    "    loss = model(**b)\n",
    "    ppl = np.exp(model.get_metrics()[\"lm_loss_wgt\"])\n",
    "    # print(ppl)\n",
    "    ppls.append(ppl)\n",
    "    model.get_metrics(reset=True)\n",
    "    # if batch_no % 100 == 0:\n",
    "    #     print(model.get_metrics())\n",
    "    # break\n",
    "# ppls\n",
    "# print(model.get_metrics())"
   ]
  },
  {
   "cell_type": "code",
   "execution_count": 11,
   "metadata": {},
   "outputs": [
    {
     "data": {
      "text/plain": [
       "49820"
      ]
     },
     "execution_count": 11,
     "metadata": {},
     "output_type": "execute_result"
    }
   ],
   "source": [
    "len(ppls)"
   ]
  },
  {
   "cell_type": "code",
   "execution_count": 14,
   "metadata": {},
   "outputs": [
    {
     "name": "stdout",
     "output_type": "stream",
     "text": [
      "1\n",
      "5\n",
      "4\n"
     ]
    },
    {
     "data": {
      "text/plain": [
       "Text(0, 0.5, 'ppl')"
      ]
     },
     "execution_count": 14,
     "metadata": {},
     "output_type": "execute_result"
    },
    {
     "data": {
      "image/png": "[encoded data removed]",
      "text/plain": [
       "<Figure size 432x288 with 1 Axes>"
      ]
     },
     "metadata": {
      "needs_background": "light"
     },
     "output_type": "display_data"
    }
   ],
   "source": [
    "data = pd.read_csv('/nas/home/gujiashe/trans/yago310_ppls_top10.tsv', sep=\"\\t\", header=0, index_col=0)\n",
    "\n",
    "data['ppls'] = ppls\n",
    "\n",
    "vis = set()\n",
    "for index in range(8, 11):\n",
    "    if data[\"rank\"][index*10]>10 or data[\"rank\"][index*10] in vis:\n",
    "        continue\n",
    "    vis.add(data[\"rank\"][index*10])\n",
    "    print(data[\"rank\"][index*10])\n",
    "    plt.scatter(data[\"rank\"][index*10], 0)\n",
    "    df = pd.Series(ppls[index*10:index*10 + 10])\n",
    "    normalized_df=(df-df.min())/(df.max()-df.min())\n",
    "    plt.plot([i for i in range(1, 11)], normalized_df)\n",
    "plt.xlabel(\"rank\")\n",
    "plt.ylabel(\"ppl\")"
   ]
  },
  {
   "cell_type": "code",
   "execution_count": 15,
   "metadata": {},
   "outputs": [],
   "source": [
    "data.to_csv('/nas/home/gujiashe/trans/yago310_ppls_top10_kb.tsv', sep=\"\\t\")"
   ]
  },
  {
   "cell_type": "code",
   "execution_count": 1,
   "metadata": {},
   "outputs": [
    {
     "ename": "FileNotFoundError",
     "evalue": "[Errno 2] No such file or directory: '/data02/wikidata-frame-completion/data/birth_table.tsv'",
     "output_type": "error",
     "traceback": [
      "\u001b[0;31m---------------------------------------------------------------------------\u001b[0m",
      "\u001b[0;31mFileNotFoundError\u001b[0m                         Traceback (most recent call last)",
      "\u001b[0;32m<ipython-input-1-fba96a0f62d8>\u001b[0m in \u001b[0;36m<module>\u001b[0;34m\u001b[0m\n\u001b[1;32m      1\u001b[0m \u001b[0;32mimport\u001b[0m \u001b[0mdatetime\u001b[0m\u001b[0;34m\u001b[0m\u001b[0;34m\u001b[0m\u001b[0m\n\u001b[1;32m      2\u001b[0m \u001b[0;32mimport\u001b[0m \u001b[0mcsv\u001b[0m\u001b[0;34m\u001b[0m\u001b[0;34m\u001b[0m\u001b[0m\n\u001b[0;32m----> 3\u001b[0;31m \u001b[0;32mwith\u001b[0m \u001b[0mopen\u001b[0m\u001b[0;34m(\u001b[0m\u001b[0;34m'/data02/wikidata-frame-completion/data/birth_table.tsv'\u001b[0m\u001b[0;34m,\u001b[0m \u001b[0;34m'r'\u001b[0m\u001b[0;34m)\u001b[0m \u001b[0;32mas\u001b[0m \u001b[0mt\u001b[0m\u001b[0;34m:\u001b[0m\u001b[0;34m\u001b[0m\u001b[0;34m\u001b[0m\u001b[0m\n\u001b[0m\u001b[1;32m      4\u001b[0m     \u001b[0mi\u001b[0m \u001b[0;34m=\u001b[0m \u001b[0;36m0\u001b[0m\u001b[0;34m\u001b[0m\u001b[0;34m\u001b[0m\u001b[0m\n\u001b[1;32m      5\u001b[0m     \u001b[0msentences_birth\u001b[0m \u001b[0;34m=\u001b[0m \u001b[0mopen\u001b[0m\u001b[0;34m(\u001b[0m\u001b[0;34m\"sentences_birth.tsv\"\u001b[0m\u001b[0;34m,\u001b[0m \u001b[0;34m\"w\"\u001b[0m\u001b[0;34m)\u001b[0m\u001b[0;34m\u001b[0m\u001b[0;34m\u001b[0m\u001b[0m\n",
      "\u001b[0;31mFileNotFoundError\u001b[0m: [Errno 2] No such file or directory: '/data02/wikidata-frame-completion/data/birth_table.tsv'"
     ]
    }
   ],
   "source": [
    "import datetime\n",
    "import csv\n",
    "with open('/data02/wikidata-frame-completion/data/birth_table.tsv', 'r') as t:\n",
    "    i = 0\n",
    "    sentences_birth = open(\"sentences_birth.tsv\", \"w\")\n",
    "    tsv_writer = csv.writer(sentences_birth, delimiter='\\t')\n",
    "    for line in t:\n",
    "        i+=1\n",
    "        if i==1:\n",
    "            continue\n",
    "        \n",
    "        person, mother, place, date = line.split('\\t')\n",
    "        if len(mother) == 0:\n",
    "            continue\n",
    "\n",
    "        person, lang = person.split(\"@\")\n",
    "        if lang != \"en\":\n",
    "            continue\n",
    "        person = person.strip(\"''\").split()\n",
    "        \n",
    "        \n",
    "        # print(\"person: \", person,  \"mother: \", mother, \"place: \", place, \"date: \", date, len(place), len(date))\n",
    "        # s = \"[PERSON] was born on [DATE_OF_BIRTH] at [PLACE_OF_BIRTH]. His mother is [MOTHER].\"\n",
    "        s = person.copy()\n",
    "        s.extend([\"was\", \"born\"])\n",
    "        spans = []\n",
    "        spans.append([0, len(person) - 1])\n",
    "        len_place = len(place)\n",
    "        len_date = len(date)\n",
    "        if len_place == 0 and len_date < 2:\n",
    "            continue\n",
    "        if len_place > 0:\n",
    "            place, lang = place.split(\"@\")\n",
    "            place = place.strip(\"''\").split()\n",
    "            if lang == \"en\":\n",
    "                s.append(\"at\")\n",
    "                s.extend(place)\n",
    "                spans.append([len(s) - len(place), len(s) - 1])\n",
    "        if len_date > 1:\n",
    "            date = date.split('T')[0][1:]\n",
    "            year, month, day = date.split('-')\n",
    "            year = int(year)\n",
    "            month = int(month)\n",
    "            day = int(day)\n",
    "            d = datetime.date(year, month, day)\n",
    "            date = d.strftime(\"%d %B %Y\").split()\n",
    "            s.append(\"on\")\n",
    "            s.extend(date)\n",
    "            spans.append([len(s) - 3, len(s) - 1])\n",
    "        s.append('.')\n",
    "        if len(mother) > 0:\n",
    "            mother, lang = mother.split(\"@\")\n",
    "            if lang == \"en\":\n",
    "                mother = mother.strip(\"''\").split()\n",
    "                s.extend([\"His\", \"mother\", \"is\"])\n",
    "                s.extend(mother)\n",
    "                spans.append([len(s) - len(mother), len(s) - 1])\n",
    "        # print(s)\n",
    "        \n",
    "        s = \" \".join(s)\n",
    "        for span in spans:\n",
    "            tsv_writer.writerow([str(span[0]) + \" \" +  str(span[1])] + [s])\n",
    "        # print(spans)\n",
    "        # print(s)\n",
    "        # if i>10:\n",
    "        #     breaks\n",
    "    sentences_birth.close()\n",
    "    print(i)"
   ]
  },
  {
   "cell_type": "code",
   "execution_count": 13,
   "metadata": {},
   "outputs": [],
   "source": [
    "import datetime\n",
    "import csv\n",
    "with open('/data02/wikidata-frame-completion/data/birth_table.tsv', 'r') as t:\n",
    "    i = 0\n",
    "    sentences_birth = open(\"sentences_place.tsv\", \"w\")\n",
    "    tsv_writer = csv.writer(sentences_birth, delimiter='\\t')\n",
    "    for line in t:\n",
    "        i+=1\n",
    "        if i==1:\n",
    "            continue\n",
    "        \n",
    "        person, mother, place, date = line.split('\\t')\n",
    "        if len(mother) == 0:\n",
    "            continue\n",
    "\n",
    "        person, lang = person.split(\"@\")\n",
    "        if lang != \"en\":\n",
    "            continue\n",
    "        person = person.strip(\"''\").split()\n",
    "        \n",
    "        \n",
    "        # print(\"person: \", person,  \"mother: \", mother, \"place: \", place, \"date: \", date, len(place), len(date))\n",
    "        # s = \"[PERSON] was born on [DATE_OF_BIRTH] at [PLACE_OF_BIRTH]. His mother is [MOTHER].\"\n",
    "        s = person.copy()\n",
    "        s.extend([\"was\", \"born\"])\n",
    "        spans = []\n",
    "        # spans.append([0, len(person) - 1])\n",
    "        len_place = len(place)\n",
    "        len_date = len(date)\n",
    "        if len_place == 0 and len_date < 2:\n",
    "            continue\n",
    "        if len_place > 0:\n",
    "            place, lang = place.split(\"@\")\n",
    "            place = place.strip(\"''\").split()\n",
    "            if lang == \"en\":\n",
    "                s.append(\"at\")\n",
    "                s.extend(place)\n",
    "                spans.append([len(s) - len(place), len(s) - 1])\n",
    "        if len_date > 1:\n",
    "            date = date.split('T')[0][1:]\n",
    "            year, month, day = date.split('-')\n",
    "            year = int(year)\n",
    "            month = int(month)\n",
    "            day = int(day)\n",
    "            d = datetime.date(year, month, day)\n",
    "            date = d.strftime(\"%d %B %Y\").split()\n",
    "            s.append(\"on\")\n",
    "            s.extend(date)\n",
    "            # spans.append([len(s) - 3, len(s) - 1])\n",
    "        s.append('.')\n",
    "        if len(mother) > 0:\n",
    "            mother, lang = mother.split(\"@\")\n",
    "            if lang == \"en\":\n",
    "                mother = mother.strip(\"''\").split()\n",
    "                s.extend([\"His\", \"mother\", \"is\"])\n",
    "                s.extend(mother)\n",
    "                # spans.append([len(s) - len(mother), len(s) - 1])\n",
    "        # print(s)\n",
    "        \n",
    "        s = \" \".join(s)\n",
    "        for span in spans:\n",
    "            tsv_writer.writerow([str(span[0]) + \" \" +  str(span[1])] + [s])\n",
    "        # print(spans)\n",
    "        # print(s)\n",
    "        # if i>10:\n",
    "        #     breaks\n",
    "    sentences_birth.close()\n"
   ]
  },
  {
   "cell_type": "code",
   "execution_count": 22,
   "metadata": {},
   "outputs": [
    {
     "name": "stdout",
     "output_type": "stream",
     "text": [
      "6340\n"
     ]
    }
   ],
   "source": [
    "import datetime\n",
    "import csv\n",
    "with open('/data02/wikidata-frame-completion/data/birth_table1.tsv', 'r') as t:\n",
    "    i = 0\n",
    "    sentences_birth = open(\"sentences_birth.tsv\", \"w\")\n",
    "    tsv_writer = csv.writer(sentences_birth, delimiter='\\t')\n",
    "\n",
    "    for line in t:\n",
    "        i+=1\n",
    "        if i==1:\n",
    "            continue\n",
    "        \n",
    "        person, mother, place, date = line.split('\\t')\n",
    "        if len(mother) == 0:\n",
    "            continue\n",
    "        def process(raw):\n",
    "            raw = raw.split(\"@\")\n",
    "            content, lang = raw\n",
    "            content = content.strip(\"''\").split()\n",
    "            return content, lang\n",
    "\n",
    "        person, lang = process(person)\n",
    "        if lang != \"en\":\n",
    "            continue\n",
    "        mother, lang = process(mother)\n",
    "        if lang != \"en\":\n",
    "            continue        \n",
    "        place, lang = process(place)\n",
    "        if lang != \"en\":\n",
    "            continue\n",
    "        \n",
    "        \n",
    "        # print(\"person: \", person,  \"mother: \", mother, \"place: \", place, \"date: \", date, len(place), len(date))\n",
    "        # “[MOTHER] gave birth to [PERSON] at [PLACE] on [DATE]” \n",
    "\n",
    "        idx = 0\n",
    "        spans = []\n",
    "        spans.append([idx, idx + len(mother) - 1])\n",
    "        idx+=len(mother) + 3\n",
    "        spans.append([idx, idx + len(person) - 1])\n",
    "        idx+=len(person) + 1\n",
    "        spans.append([idx, idx + len(place) - 1])\n",
    "        idx+=len(place) + 1\n",
    "\n",
    "        date = date.split('T')[0][1:]\n",
    "        year, month, day = date.split('-')\n",
    "        year = int(year)\n",
    "        month = int(month)\n",
    "        day = int(day)\n",
    "        d = datetime.date(year, month, day)\n",
    "        date = d.strftime(\"%d %B %Y\").split()\n",
    "        spans.append([idx, idx + 2])\n",
    "        \n",
    "        s = mother + [\"gave\", \"birth\", \"to\"] + person + [\"at\"] + place + [\"on\"] + date + [\".\"]\n",
    "        s = \" \".join(s)\n",
    "        for span in spans:\n",
    "            tsv_writer.writerow([str(span[0]) + \" \" +  str(span[1])] + [s])\n",
    "        # print(spans)\n",
    "        # print(s)\n",
    "        # if i>10:\n",
    "        #     breaks\n",
    "    sentences_birth.close()\n",
    "    print(i)"
   ]
  },
  {
   "cell_type": "code",
   "execution_count": 26,
   "metadata": {},
   "outputs": [
    {
     "name": "stdout",
     "output_type": "stream",
     "text": [
      "6340\n"
     ]
    }
   ],
   "source": [
    "import datetime\n",
    "import csv\n",
    "with open('/data02/wikidata-frame-completion/data/birth_table1.tsv', 'r') as t:\n",
    "    i = 0\n",
    "    sentences_birth = open(\"sentences_person.tsv\", \"w\")\n",
    "    tsv_writer = csv.writer(sentences_birth, delimiter='\\t')\n",
    "    for line in t:\n",
    "        i+=1\n",
    "        if i==1:\n",
    "            continue\n",
    "        \n",
    "        person, mother, place, date = line.split('\\t')\n",
    "        if len(mother) == 0:\n",
    "            continue\n",
    "        def process(raw):\n",
    "            raw = raw.split(\"@\")\n",
    "            content, lang = raw\n",
    "            content = content.strip(\"''\").split()\n",
    "            return content, lang\n",
    "\n",
    "        person, lang = process(person)\n",
    "        if lang != \"en\":\n",
    "            continue\n",
    "        mother, lang = process(mother)\n",
    "        if lang != \"en\":\n",
    "            continue        \n",
    "        place, lang = process(place)\n",
    "        if lang != \"en\":\n",
    "            continue\n",
    "        \n",
    "        \n",
    "        # print(\"person: \", person,  \"mother: \", mother, \"place: \", place, \"date: \", date, len(place), len(date))\n",
    "        # “[MOTHER] gave birth to [PERSON] at [PLACE] on [DATE]” \n",
    "\n",
    "        idx = 0\n",
    "        spans = []\n",
    "        # spans.append([idx, idx + len(mother) - 1])\n",
    "        idx+=len(mother) + 3\n",
    "        spans.append([idx, idx + len(person) - 1])\n",
    "        idx+=len(person) + 1\n",
    "        # spans.append([idx, idx + len(place) - 1])\n",
    "        idx+=len(place) + 1\n",
    "\n",
    "        date = date.split('T')[0][1:]\n",
    "        year, month, day = date.split('-')\n",
    "        year = int(year)\n",
    "        month = int(month)\n",
    "        day = int(day)\n",
    "        d = datetime.date(year, month, day)\n",
    "        date = d.strftime(\"%d %B %Y\").split()\n",
    "        # spans.append([idx, idx + 2])\n",
    "        \n",
    "        s = mother + [\"gave\", \"birth\", \"to\"] + person + [\"at\"] + place + [\"on\"] + date + [\".\"]\n",
    "        s = \" \".join(s)\n",
    "        for span in spans:\n",
    "            tsv_writer.writerow([str(span[0]) + \" \" +  str(span[1])] + [s])\n",
    "        # print(spans)\n",
    "        # print(s)\n",
    "        # if i>10:\n",
    "        #     breaks\n",
    "    sentences_birth.close()\n",
    "    print(i)"
   ]
  },
  {
   "cell_type": "code",
   "execution_count": null,
   "metadata": {},
   "outputs": [],
   "source": [
    "# kgtk query -i Person0.tsv  -i Mother0.tsv  -i Place0.tsv  -i Date0.tsv  -i labels.en.tsv.gz --match \"Person: (q)-[]->(n), Mother: (q)-[]->(m), labels: (m)-[]->(mm), place: (q)-[]->(p), labels: (p)-[]->(pp), date: (q)-[]->(d)\" –-return \"n as Person, mm as Mother, pp as Place_of_birth, d as Date_of_birth\" -o birth_table1.tsv\n",
    "# kgtk query -i Person0.tsv -i Mother0.tsv -i Place0.tsv -i Date0.tsv -i labels.en.tsv.gz --match \"Person: (q)-[]->(n), Mother:(q)-[]->(m), Place: (q)-[]->(p), Date: (q)-[]->(d), labels: (m)-[]->(mm), labels: (p)-[]->(pp)\" --return \"n as Person, mm as Mother, pp as Place_of_birth, d as Date_of_birth\" -o birth_table1.tsv"
   ]
  }
 ],
 "metadata": {
  "interpreter": {
   "hash": "1f24110ee2db4d48ba4b1000bf22589bea4791e16fd0364b7a9875ecc3c21267"
  },
  "kernelspec": {
   "display_name": "Python 3.6.7 ('knowbert')",
   "language": "python",
   "name": "python3"
  },
  "language_info": {
   "codemirror_mode": {
    "name": "ipython",
    "version": 3
   },
   "file_extension": ".py",
   "mimetype": "text/x-python",
   "name": "python",
   "nbconvert_exporter": "python",
   "pygments_lexer": "ipython3",
   "version": "3.6.7"
  },
  "orig_nbformat": 4
 },
 "nbformat": 4,
 "nbformat_minor": 2
}
