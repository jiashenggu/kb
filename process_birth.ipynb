{
 "cells": [
  {
   "cell_type": "code",
   "execution_count": 3,
   "metadata": {},
   "outputs": [
    {
     "name": "stdout",
     "output_type": "stream",
     "text": [
      "6409\n"
     ]
    }
   ],
   "source": [
    "with open('/data02/wikidata-frame-completion/data/birth_table1.tsv', 'r') as t:\n",
    "    i = 0\n",
    "    for line in t:\n",
    "        i+=1\n",
    "    print(i)"
   ]
  },
  {
   "cell_type": "code",
   "execution_count": 1,
   "metadata": {},
   "outputs": [
    {
     "name": "stdout",
     "output_type": "stream",
     "text": [
      "141132\n"
     ]
    }
   ],
   "source": [
    "import datetime\n",
    "import csv\n",
    "with open('/data02/wikidata-frame-completion/data/birth_table.tsv', 'r') as t:\n",
    "    i = 0\n",
    "    sentences_birth = open(\"sentences_birth.tsv\", \"w\")\n",
    "    tsv_writer = csv.writer(sentences_birth, delimiter='\\t')\n",
    "    for line in t:\n",
    "        i+=1\n",
    "        if i==1:\n",
    "            continue\n",
    "        \n",
    "        person, mother, place, date = line.split('\\t')\n",
    "        if len(mother) == 0:\n",
    "            continue\n",
    "\n",
    "        person, lang = person.split(\"@\")\n",
    "        if lang != \"en\":\n",
    "            continue\n",
    "        person = person.strip(\"''\").split()\n",
    "        \n",
    "        \n",
    "        # print(\"person: \", person,  \"mother: \", mother, \"place: \", place, \"date: \", date, len(place), len(date))\n",
    "        # s = \"[PERSON] was born on [DATE_OF_BIRTH] at [PLACE_OF_BIRTH]. His mother is [MOTHER].\"\n",
    "        s = person.copy()\n",
    "        s.extend([\"was\", \"born\"])\n",
    "        spans = []\n",
    "        spans.append([0, len(person) - 1])\n",
    "        len_place = len(place)\n",
    "        len_date = len(date)\n",
    "        if len_place == 0 and len_date < 2:\n",
    "            continue\n",
    "        if len_place > 0:\n",
    "            place, lang = place.split(\"@\")\n",
    "            place = place.strip(\"''\").split()\n",
    "            if lang == \"en\":\n",
    "                s.append(\"at\")\n",
    "                s.extend(place)\n",
    "                spans.append([len(s) - len(place), len(s) - 1])\n",
    "        if len_date > 1:\n",
    "            date = date.split('T')[0][1:]\n",
    "            year, month, day = date.split('-')\n",
    "            year = int(year)\n",
    "            month = int(month)\n",
    "            day = int(day)\n",
    "            d = datetime.date(year, month, day)\n",
    "            date = d.strftime(\"%d %B %Y\").split()\n",
    "            s.append(\"on\")\n",
    "            s.extend(date)\n",
    "            spans.append([len(s) - 3, len(s) - 1])\n",
    "        s.append('.')\n",
    "        if len(mother) > 0:\n",
    "            mother, lang = mother.split(\"@\")\n",
    "            if lang == \"en\":\n",
    "                mother = mother.strip(\"''\").split()\n",
    "                s.extend([\"His\", \"mother\", \"is\"])\n",
    "                s.extend(mother)\n",
    "                spans.append([len(s) - len(mother), len(s) - 1])\n",
    "        # print(s)\n",
    "        \n",
    "        s = \" \".join(s)\n",
    "        for span in spans:\n",
    "            tsv_writer.writerow([str(span[0]) + \" \" +  str(span[1])] + [s])\n",
    "        # print(spans)\n",
    "        # print(s)\n",
    "        # if i>10:\n",
    "        #     breaks\n",
    "    sentences_birth.close()\n",
    "    print(i)"
   ]
  },
  {
   "cell_type": "code",
   "execution_count": 13,
   "metadata": {},
   "outputs": [],
   "source": [
    "import datetime\n",
    "import csv\n",
    "with open('/data02/wikidata-frame-completion/data/birth_table.tsv', 'r') as t:\n",
    "    i = 0\n",
    "    sentences_birth = open(\"sentences_place.tsv\", \"w\")\n",
    "    tsv_writer = csv.writer(sentences_birth, delimiter='\\t')\n",
    "    for line in t:\n",
    "        i+=1\n",
    "        if i==1:\n",
    "            continue\n",
    "        \n",
    "        person, mother, place, date = line.split('\\t')\n",
    "        if len(mother) == 0:\n",
    "            continue\n",
    "\n",
    "        person, lang = person.split(\"@\")\n",
    "        if lang != \"en\":\n",
    "            continue\n",
    "        person = person.strip(\"''\").split()\n",
    "        \n",
    "        \n",
    "        # print(\"person: \", person,  \"mother: \", mother, \"place: \", place, \"date: \", date, len(place), len(date))\n",
    "        # s = \"[PERSON] was born on [DATE_OF_BIRTH] at [PLACE_OF_BIRTH]. His mother is [MOTHER].\"\n",
    "        s = person.copy()\n",
    "        s.extend([\"was\", \"born\"])\n",
    "        spans = []\n",
    "        # spans.append([0, len(person) - 1])\n",
    "        len_place = len(place)\n",
    "        len_date = len(date)\n",
    "        if len_place == 0 and len_date < 2:\n",
    "            continue\n",
    "        if len_place > 0:\n",
    "            place, lang = place.split(\"@\")\n",
    "            place = place.strip(\"''\").split()\n",
    "            if lang == \"en\":\n",
    "                s.append(\"at\")\n",
    "                s.extend(place)\n",
    "                spans.append([len(s) - len(place), len(s) - 1])\n",
    "        if len_date > 1:\n",
    "            date = date.split('T')[0][1:]\n",
    "            year, month, day = date.split('-')\n",
    "            year = int(year)\n",
    "            month = int(month)\n",
    "            day = int(day)\n",
    "            d = datetime.date(year, month, day)\n",
    "            date = d.strftime(\"%d %B %Y\").split()\n",
    "            s.append(\"on\")\n",
    "            s.extend(date)\n",
    "            # spans.append([len(s) - 3, len(s) - 1])\n",
    "        s.append('.')\n",
    "        if len(mother) > 0:\n",
    "            mother, lang = mother.split(\"@\")\n",
    "            if lang == \"en\":\n",
    "                mother = mother.strip(\"''\").split()\n",
    "                s.extend([\"His\", \"mother\", \"is\"])\n",
    "                s.extend(mother)\n",
    "                # spans.append([len(s) - len(mother), len(s) - 1])\n",
    "        # print(s)\n",
    "        \n",
    "        s = \" \".join(s)\n",
    "        for span in spans:\n",
    "            tsv_writer.writerow([str(span[0]) + \" \" +  str(span[1])] + [s])\n",
    "        # print(spans)\n",
    "        # print(s)\n",
    "        # if i>10:\n",
    "        #     breaks\n",
    "    sentences_birth.close()\n"
   ]
  },
  {
   "cell_type": "code",
   "execution_count": 22,
   "metadata": {},
   "outputs": [
    {
     "name": "stdout",
     "output_type": "stream",
     "text": [
      "6340\n"
     ]
    }
   ],
   "source": [
    "import datetime\n",
    "import csv\n",
    "with open('/data02/wikidata-frame-completion/data/birth_table1.tsv', 'r') as t:\n",
    "    i = 0\n",
    "    sentences_birth = open(\"sentences_birth.tsv\", \"w\")\n",
    "    tsv_writer = csv.writer(sentences_birth, delimiter='\\t')\n",
    "\n",
    "    for line in t:\n",
    "        i+=1\n",
    "        if i==1:\n",
    "            continue\n",
    "        \n",
    "        person, mother, place, date = line.split('\\t')\n",
    "        if len(mother) == 0:\n",
    "            continue\n",
    "        def process(raw):\n",
    "            raw = raw.split(\"@\")\n",
    "            content, lang = raw\n",
    "            content = content.strip(\"''\").split()\n",
    "            return content, lang\n",
    "\n",
    "        person, lang = process(person)\n",
    "        if lang != \"en\":\n",
    "            continue\n",
    "        mother, lang = process(mother)\n",
    "        if lang != \"en\":\n",
    "            continue        \n",
    "        place, lang = process(place)\n",
    "        if lang != \"en\":\n",
    "            continue\n",
    "        \n",
    "        \n",
    "        # print(\"person: \", person,  \"mother: \", mother, \"place: \", place, \"date: \", date, len(place), len(date))\n",
    "        # “[MOTHER] gave birth to [PERSON] at [PLACE] on [DATE]” \n",
    "\n",
    "        idx = 0\n",
    "        spans = []\n",
    "        spans.append([idx, idx + len(mother) - 1])\n",
    "        idx+=len(mother) + 3\n",
    "        spans.append([idx, idx + len(person) - 1])\n",
    "        idx+=len(person) + 1\n",
    "        spans.append([idx, idx + len(place) - 1])\n",
    "        idx+=len(place) + 1\n",
    "\n",
    "        date = date.split('T')[0][1:]\n",
    "        year, month, day = date.split('-')\n",
    "        year = int(year)\n",
    "        month = int(month)\n",
    "        day = int(day)\n",
    "        d = datetime.date(year, month, day)\n",
    "        date = d.strftime(\"%d %B %Y\").split()\n",
    "        spans.append([idx, idx + 2])\n",
    "        \n",
    "        s = mother + [\"gave\", \"birth\", \"to\"] + person + [\"at\"] + place + [\"on\"] + date + [\".\"]\n",
    "        s = \" \".join(s)\n",
    "        for span in spans:\n",
    "            tsv_writer.writerow([str(span[0]) + \" \" +  str(span[1])] + [s])\n",
    "        # print(spans)\n",
    "        # print(s)\n",
    "        # if i>10:\n",
    "        #     breaks\n",
    "    sentences_birth.close()\n",
    "    print(i)"
   ]
  },
  {
   "cell_type": "code",
   "execution_count": 26,
   "metadata": {},
   "outputs": [
    {
     "name": "stdout",
     "output_type": "stream",
     "text": [
      "6340\n"
     ]
    }
   ],
   "source": [
    "import datetime\n",
    "import csv\n",
    "with open('/data02/wikidata-frame-completion/data/birth_table1.tsv', 'r') as t:\n",
    "    i = 0\n",
    "    sentences_birth = open(\"sentences_person.tsv\", \"w\")\n",
    "    tsv_writer = csv.writer(sentences_birth, delimiter='\\t')\n",
    "    for line in t:\n",
    "        i+=1\n",
    "        if i==1:\n",
    "            continue\n",
    "        \n",
    "        person, mother, place, date = line.split('\\t')\n",
    "        if len(mother) == 0:\n",
    "            continue\n",
    "        def process(raw):\n",
    "            raw = raw.split(\"@\")\n",
    "            content, lang = raw\n",
    "            content = content.strip(\"''\").split()\n",
    "            return content, lang\n",
    "\n",
    "        person, lang = process(person)\n",
    "        if lang != \"en\":\n",
    "            continue\n",
    "        mother, lang = process(mother)\n",
    "        if lang != \"en\":\n",
    "            continue        \n",
    "        place, lang = process(place)\n",
    "        if lang != \"en\":\n",
    "            continue\n",
    "        \n",
    "        \n",
    "        # print(\"person: \", person,  \"mother: \", mother, \"place: \", place, \"date: \", date, len(place), len(date))\n",
    "        # “[MOTHER] gave birth to [PERSON] at [PLACE] on [DATE]” \n",
    "\n",
    "        idx = 0\n",
    "        spans = []\n",
    "        # spans.append([idx, idx + len(mother) - 1])\n",
    "        idx+=len(mother) + 3\n",
    "        spans.append([idx, idx + len(person) - 1])\n",
    "        idx+=len(person) + 1\n",
    "        # spans.append([idx, idx + len(place) - 1])\n",
    "        idx+=len(place) + 1\n",
    "\n",
    "        date = date.split('T')[0][1:]\n",
    "        year, month, day = date.split('-')\n",
    "        year = int(year)\n",
    "        month = int(month)\n",
    "        day = int(day)\n",
    "        d = datetime.date(year, month, day)\n",
    "        date = d.strftime(\"%d %B %Y\").split()\n",
    "        # spans.append([idx, idx + 2])\n",
    "        \n",
    "        s = mother + [\"gave\", \"birth\", \"to\"] + person + [\"at\"] + place + [\"on\"] + date + [\".\"]\n",
    "        s = \" \".join(s)\n",
    "        for span in spans:\n",
    "            tsv_writer.writerow([str(span[0]) + \" \" +  str(span[1])] + [s])\n",
    "        # print(spans)\n",
    "        # print(s)\n",
    "        # if i>10:\n",
    "        #     breaks\n",
    "    sentences_birth.close()\n",
    "    print(i)"
   ]
  },
  {
   "cell_type": "code",
   "execution_count": null,
   "metadata": {},
   "outputs": [],
   "source": [
    "# kgtk query -i Person0.tsv  -i Mother0.tsv  -i Place0.tsv  -i Date0.tsv  -i labels.en.tsv.gz --match \"Person: (q)-[]->(n), Mother: (q)-[]->(m), labels: (m)-[]->(mm), place: (q)-[]->(p), labels: (p)-[]->(pp), date: (q)-[]->(d)\" –-return \"n as Person, mm as Mother, pp as Place_of_birth, d as Date_of_birth\" -o birth_table1.tsv\n",
    "# kgtk query -i Person0.tsv -i Mother0.tsv -i Place0.tsv -i Date0.tsv -i labels.en.tsv.gz --match \"Person: (q)-[]->(n), Mother:(q)-[]->(m), Place: (q)-[]->(p), Date: (q)-[]->(d), labels: (m)-[]->(mm), labels: (p)-[]->(pp)\" --return \"n as Person, mm as Mother, pp as Place_of_birth, d as Date_of_birth\" -o birth_table1.tsv"
   ]
  },
  {
   "cell_type": "code",
   "execution_count": 32,
   "metadata": {},
   "outputs": [
    {
     "ename": "ValueError",
     "evalue": "could not convert string to float: '0 1'",
     "output_type": "error",
     "traceback": [
      "\u001b[0;31m---------------------------------------------------------------------------\u001b[0m",
      "\u001b[0;31mValueError\u001b[0m                                Traceback (most recent call last)",
      "\u001b[0;32m<ipython-input-32-8e33a3ecb5b7>\u001b[0m in \u001b[0;36m<module>\u001b[0;34m\u001b[0m\n\u001b[1;32m      1\u001b[0m \u001b[0;32mimport\u001b[0m \u001b[0mnumpy\u001b[0m \u001b[0;32mas\u001b[0m \u001b[0mnp\u001b[0m\u001b[0;34m\u001b[0m\u001b[0;34m\u001b[0m\u001b[0m\n\u001b[0;32m----> 2\u001b[0;31m \u001b[0mdata\u001b[0m \u001b[0;34m=\u001b[0m \u001b[0mnp\u001b[0m\u001b[0;34m.\u001b[0m\u001b[0mloadtxt\u001b[0m\u001b[0;34m(\u001b[0m\u001b[0mfname\u001b[0m\u001b[0;34m=\u001b[0m\u001b[0;34m\"/nas/home/gujiashe/kb/sentences_birth.tsv\"\u001b[0m\u001b[0;34m,\u001b[0m \u001b[0mdelimiter\u001b[0m\u001b[0;34m=\u001b[0m\u001b[0;34m'\\t'\u001b[0m\u001b[0;34m)\u001b[0m\u001b[0;34m\u001b[0m\u001b[0;34m\u001b[0m\u001b[0m\n\u001b[0m\u001b[1;32m      3\u001b[0m \u001b[0;34m\u001b[0m\u001b[0m\n",
      "\u001b[0;32m~/miniconda3/envs/knowbert/lib/python3.6/site-packages/numpy/lib/npyio.py\u001b[0m in \u001b[0;36mloadtxt\u001b[0;34m(fname, dtype, comments, delimiter, converters, skiprows, usecols, unpack, ndmin, encoding, max_rows)\u001b[0m\n\u001b[1;32m   1137\u001b[0m         \u001b[0;31m# converting the data\u001b[0m\u001b[0;34m\u001b[0m\u001b[0;34m\u001b[0m\u001b[0;34m\u001b[0m\u001b[0m\n\u001b[1;32m   1138\u001b[0m         \u001b[0mX\u001b[0m \u001b[0;34m=\u001b[0m \u001b[0;32mNone\u001b[0m\u001b[0;34m\u001b[0m\u001b[0;34m\u001b[0m\u001b[0m\n\u001b[0;32m-> 1139\u001b[0;31m         \u001b[0;32mfor\u001b[0m \u001b[0mx\u001b[0m \u001b[0;32min\u001b[0m \u001b[0mread_data\u001b[0m\u001b[0;34m(\u001b[0m\u001b[0m_loadtxt_chunksize\u001b[0m\u001b[0;34m)\u001b[0m\u001b[0;34m:\u001b[0m\u001b[0;34m\u001b[0m\u001b[0;34m\u001b[0m\u001b[0m\n\u001b[0m\u001b[1;32m   1140\u001b[0m             \u001b[0;32mif\u001b[0m \u001b[0mX\u001b[0m \u001b[0;32mis\u001b[0m \u001b[0;32mNone\u001b[0m\u001b[0;34m:\u001b[0m\u001b[0;34m\u001b[0m\u001b[0;34m\u001b[0m\u001b[0m\n\u001b[1;32m   1141\u001b[0m                 \u001b[0mX\u001b[0m \u001b[0;34m=\u001b[0m \u001b[0mnp\u001b[0m\u001b[0;34m.\u001b[0m\u001b[0marray\u001b[0m\u001b[0;34m(\u001b[0m\u001b[0mx\u001b[0m\u001b[0;34m,\u001b[0m \u001b[0mdtype\u001b[0m\u001b[0;34m)\u001b[0m\u001b[0;34m\u001b[0m\u001b[0;34m\u001b[0m\u001b[0m\n",
      "\u001b[0;32m~/miniconda3/envs/knowbert/lib/python3.6/site-packages/numpy/lib/npyio.py\u001b[0m in \u001b[0;36mread_data\u001b[0;34m(chunk_size)\u001b[0m\n\u001b[1;32m   1065\u001b[0m \u001b[0;34m\u001b[0m\u001b[0m\n\u001b[1;32m   1066\u001b[0m             \u001b[0;31m# Convert each value according to its column and store\u001b[0m\u001b[0;34m\u001b[0m\u001b[0;34m\u001b[0m\u001b[0;34m\u001b[0m\u001b[0m\n\u001b[0;32m-> 1067\u001b[0;31m             \u001b[0mitems\u001b[0m \u001b[0;34m=\u001b[0m \u001b[0;34m[\u001b[0m\u001b[0mconv\u001b[0m\u001b[0;34m(\u001b[0m\u001b[0mval\u001b[0m\u001b[0;34m)\u001b[0m \u001b[0;32mfor\u001b[0m \u001b[0;34m(\u001b[0m\u001b[0mconv\u001b[0m\u001b[0;34m,\u001b[0m \u001b[0mval\u001b[0m\u001b[0;34m)\u001b[0m \u001b[0;32min\u001b[0m \u001b[0mzip\u001b[0m\u001b[0;34m(\u001b[0m\u001b[0mconverters\u001b[0m\u001b[0;34m,\u001b[0m \u001b[0mvals\u001b[0m\u001b[0;34m)\u001b[0m\u001b[0;34m]\u001b[0m\u001b[0;34m\u001b[0m\u001b[0;34m\u001b[0m\u001b[0m\n\u001b[0m\u001b[1;32m   1068\u001b[0m \u001b[0;34m\u001b[0m\u001b[0m\n\u001b[1;32m   1069\u001b[0m             \u001b[0;31m# Then pack it according to the dtype's nesting\u001b[0m\u001b[0;34m\u001b[0m\u001b[0;34m\u001b[0m\u001b[0;34m\u001b[0m\u001b[0m\n",
      "\u001b[0;32m~/miniconda3/envs/knowbert/lib/python3.6/site-packages/numpy/lib/npyio.py\u001b[0m in \u001b[0;36m<listcomp>\u001b[0;34m(.0)\u001b[0m\n\u001b[1;32m   1065\u001b[0m \u001b[0;34m\u001b[0m\u001b[0m\n\u001b[1;32m   1066\u001b[0m             \u001b[0;31m# Convert each value according to its column and store\u001b[0m\u001b[0;34m\u001b[0m\u001b[0;34m\u001b[0m\u001b[0;34m\u001b[0m\u001b[0m\n\u001b[0;32m-> 1067\u001b[0;31m             \u001b[0mitems\u001b[0m \u001b[0;34m=\u001b[0m \u001b[0;34m[\u001b[0m\u001b[0mconv\u001b[0m\u001b[0;34m(\u001b[0m\u001b[0mval\u001b[0m\u001b[0;34m)\u001b[0m \u001b[0;32mfor\u001b[0m \u001b[0;34m(\u001b[0m\u001b[0mconv\u001b[0m\u001b[0;34m,\u001b[0m \u001b[0mval\u001b[0m\u001b[0;34m)\u001b[0m \u001b[0;32min\u001b[0m \u001b[0mzip\u001b[0m\u001b[0;34m(\u001b[0m\u001b[0mconverters\u001b[0m\u001b[0;34m,\u001b[0m \u001b[0mvals\u001b[0m\u001b[0;34m)\u001b[0m\u001b[0;34m]\u001b[0m\u001b[0;34m\u001b[0m\u001b[0;34m\u001b[0m\u001b[0m\n\u001b[0m\u001b[1;32m   1068\u001b[0m \u001b[0;34m\u001b[0m\u001b[0m\n\u001b[1;32m   1069\u001b[0m             \u001b[0;31m# Then pack it according to the dtype's nesting\u001b[0m\u001b[0;34m\u001b[0m\u001b[0;34m\u001b[0m\u001b[0;34m\u001b[0m\u001b[0m\n",
      "\u001b[0;32m~/miniconda3/envs/knowbert/lib/python3.6/site-packages/numpy/lib/npyio.py\u001b[0m in \u001b[0;36mfloatconv\u001b[0;34m(x)\u001b[0m\n\u001b[1;32m    761\u001b[0m         \u001b[0;32mif\u001b[0m \u001b[0;34m'0x'\u001b[0m \u001b[0;32min\u001b[0m \u001b[0mx\u001b[0m\u001b[0;34m:\u001b[0m\u001b[0;34m\u001b[0m\u001b[0;34m\u001b[0m\u001b[0m\n\u001b[1;32m    762\u001b[0m             \u001b[0;32mreturn\u001b[0m \u001b[0mfloat\u001b[0m\u001b[0;34m.\u001b[0m\u001b[0mfromhex\u001b[0m\u001b[0;34m(\u001b[0m\u001b[0mx\u001b[0m\u001b[0;34m)\u001b[0m\u001b[0;34m\u001b[0m\u001b[0;34m\u001b[0m\u001b[0m\n\u001b[0;32m--> 763\u001b[0;31m         \u001b[0;32mreturn\u001b[0m \u001b[0mfloat\u001b[0m\u001b[0;34m(\u001b[0m\u001b[0mx\u001b[0m\u001b[0;34m)\u001b[0m\u001b[0;34m\u001b[0m\u001b[0;34m\u001b[0m\u001b[0m\n\u001b[0m\u001b[1;32m    764\u001b[0m \u001b[0;34m\u001b[0m\u001b[0m\n\u001b[1;32m    765\u001b[0m     \u001b[0mtyp\u001b[0m \u001b[0;34m=\u001b[0m \u001b[0mdtype\u001b[0m\u001b[0;34m.\u001b[0m\u001b[0mtype\u001b[0m\u001b[0;34m\u001b[0m\u001b[0;34m\u001b[0m\u001b[0m\n",
      "\u001b[0;31mValueError\u001b[0m: could not convert string to float: '0 1'"
     ]
    }
   ],
   "source": [
    "\n",
    "\n"
   ]
  },
  {
   "cell_type": "code",
   "execution_count": 31,
   "metadata": {},
   "outputs": [
    {
     "data": {
      "text/plain": [
       "array([[nan, nan],\n",
       "       [nan, nan],\n",
       "       [nan, nan],\n",
       "       ...,\n",
       "       [nan, nan],\n",
       "       [nan, nan],\n",
       "       [nan, nan]])"
      ]
     },
     "execution_count": 31,
     "metadata": {},
     "output_type": "execute_result"
    }
   ],
   "source": [
    "data"
   ]
  },
  {
   "cell_type": "code",
   "execution_count": null,
   "metadata": {},
   "outputs": [],
   "source": []
  }
 ],
 "metadata": {
  "interpreter": {
   "hash": "1f24110ee2db4d48ba4b1000bf22589bea4791e16fd0364b7a9875ecc3c21267"
  },
  "kernelspec": {
   "display_name": "Python 3.6.7 ('knowbert')",
   "language": "python",
   "name": "python3"
  },
  "language_info": {
   "codemirror_mode": {
    "name": "ipython",
    "version": 3
   },
   "file_extension": ".py",
   "mimetype": "text/x-python",
   "name": "python",
   "nbconvert_exporter": "python",
   "pygments_lexer": "ipython3",
   "version": "3.6.7"
  },
  "orig_nbformat": 4
 },
 "nbformat": 4,
 "nbformat_minor": 2
}
